{
 "cells": [
  {
   "cell_type": "code",
   "execution_count": 1,
   "metadata": {},
   "outputs": [],
   "source": [
    "using DataFrames\n",
    "using Plots\n",
    "using CSV\n",
    "using Statistics\n"
   ]
  },
  {
   "cell_type": "code",
   "execution_count": 2,
   "metadata": {},
   "outputs": [],
   "source": [
    "using DelimitedFiles"
   ]
  },
  {
   "cell_type": "code",
   "execution_count": 3,
   "metadata": {},
   "outputs": [
    {
     "ename": "LoadError",
     "evalue": "\u001b[91mArgumentError: \"ccc_covid.txt\" is not a valid file\u001b[39m",
     "output_type": "error",
     "traceback": [
      "\u001b[91mArgumentError: \"ccc_covid.txt\" is not a valid file\u001b[39m",
      "",
      "Stacktrace:",
      " [1] Header at /home/adam_ostrich/.julia/packages/CSV/Zl2ww/src/header.jl:90 [inlined]",
      " [2] CSV.File(::String; header::Int64, normalizenames::Bool, datarow::Int64, skipto::Nothing, footerskip::Int64, transpose::Bool, comment::Nothing, use_mmap::Nothing, ignoreemptylines::Bool, select::Nothing, drop::Nothing, missingstrings::Array{String,1}, missingstring::String, delim::Nothing, ignorerepeated::Bool, quotechar::Char, openquotechar::Nothing, closequotechar::Nothing, escapechar::Char, dateformat::Nothing, dateformats::Nothing, decimal::UInt8, truestrings::Array{String,1}, falsestrings::Array{String,1}, type::Nothing, types::Nothing, typemap::Dict{Type,Type}, pool::Float64, lazystrings::Bool, strict::Bool, silencewarnings::Bool, debug::Bool, parsingdebug::Bool, kw::Base.Iterators.Pairs{Union{},Union{},Tuple{},NamedTuple{(),Tuple{}}}) at /home/adam_ostrich/.julia/packages/CSV/Zl2ww/src/file.jl:223",
      " [3] CSV.File(::String) at /home/adam_ostrich/.julia/packages/CSV/Zl2ww/src/file.jl:223",
      " [4] top-level scope at In[3]:1",
      " [5] include_string(::Function, ::Module, ::String, ::String) at ./loading.jl:1091"
     ]
    }
   ],
   "source": [
    "ccc_covid = DataFrame(CSV.File(\"ccc_covid.txt\"))\n",
    "ccc_przed = DataFrame(CSV.File(\"ccc_przed.txt\"))\n",
    "cd_proj_covid = DataFrame(CSV.File(\"cd_projekt_covid.txt\"))\n",
    "cd_proj_przed = DataFrame(CSV.File(\"cd_projekt_przed.txt\"))\n",
    "kghm_przed = DataFrame(CSV.File(\"kghm_przed.txt\"))\n",
    "kghm_covid = DataFrame(CSV.File(\"kghm_covid.txt\"))\n",
    "orlen_przed = DataFrame(CSV.File(\"pknorlen_przed.txt\"))\n",
    "orlen_covid = DataFrame(CSV.File(\"pknorlen_covid.txt\"))\n",
    "santander_covid = DataFrame(CSV.File(\"santander_covid.txt\"))\n",
    "santander_przed = DataFrame(CSV.File(\"santander_przed.txt\"))\n"
   ]
  },
  {
   "cell_type": "code",
   "execution_count": 4,
   "metadata": {},
   "outputs": [
    {
     "data": {
      "text/html": [
       "<table class=\"data-frame\"><thead><tr><th></th><th>Dzien</th><th>lacznie</th><th>dzienny_przyrost</th></tr><tr><th></th><th>Date…</th><th>Int64</th><th>Int64</th></tr></thead><tbody><p>251 rows × 3 columns</p><tr><th>1</th><td>2020-03-04</td><td>1</td><td>1</td></tr><tr><th>2</th><td>2020-03-05</td><td>1</td><td>0</td></tr><tr><th>3</th><td>2020-03-06</td><td>5</td><td>4</td></tr><tr><th>4</th><td>2020-03-09</td><td>17</td><td>6</td></tr><tr><th>5</th><td>2020-03-10</td><td>22</td><td>5</td></tr><tr><th>6</th><td>2020-03-11</td><td>31</td><td>9</td></tr><tr><th>7</th><td>2020-03-12</td><td>51</td><td>20</td></tr><tr><th>8</th><td>2020-03-13</td><td>68</td><td>17</td></tr><tr><th>9</th><td>2020-03-16</td><td>177</td><td>52</td></tr><tr><th>10</th><td>2020-03-17</td><td>238</td><td>61</td></tr><tr><th>11</th><td>2020-03-18</td><td>287</td><td>49</td></tr><tr><th>12</th><td>2020-03-19</td><td>355</td><td>68</td></tr><tr><th>13</th><td>2020-03-20</td><td>425</td><td>70</td></tr><tr><th>14</th><td>2020-03-23</td><td>749</td><td>115</td></tr><tr><th>15</th><td>2020-03-24</td><td>901</td><td>152</td></tr><tr><th>16</th><td>2020-03-25</td><td>1051</td><td>150</td></tr><tr><th>17</th><td>2020-03-26</td><td>1221</td><td>170</td></tr><tr><th>18</th><td>2020-03-27</td><td>1389</td><td>168</td></tr><tr><th>19</th><td>2020-03-30</td><td>2055</td><td>193</td></tr><tr><th>20</th><td>2020-03-31</td><td>2311</td><td>256</td></tr><tr><th>21</th><td>2020-04-01</td><td>2554</td><td>243</td></tr><tr><th>22</th><td>2020-04-02</td><td>2946</td><td>392</td></tr><tr><th>23</th><td>2020-04-03</td><td>3383</td><td>437</td></tr><tr><th>24</th><td>2020-04-06</td><td>4413</td><td>311</td></tr><tr><th>25</th><td>2020-04-07</td><td>4848</td><td>435</td></tr><tr><th>26</th><td>2020-04-08</td><td>5205</td><td>357</td></tr><tr><th>27</th><td>2020-04-09</td><td>5575</td><td>370</td></tr><tr><th>28</th><td>2020-04-14</td><td>7202</td><td>268</td></tr><tr><th>29</th><td>2020-04-15</td><td>7582</td><td>380</td></tr><tr><th>30</th><td>2020-04-16</td><td>7918</td><td>336</td></tr><tr><th>&vellip;</th><td>&vellip;</td><td>&vellip;</td><td>&vellip;</td></tr></tbody></table>"
      ],
      "text/latex": [
       "\\begin{tabular}{r|ccc}\n",
       "\t& Dzien & lacznie & dzienny\\_przyrost\\\\\n",
       "\t\\hline\n",
       "\t& Date… & Int64 & Int64\\\\\n",
       "\t\\hline\n",
       "\t1 & 2020-03-04 & 1 & 1 \\\\\n",
       "\t2 & 2020-03-05 & 1 & 0 \\\\\n",
       "\t3 & 2020-03-06 & 5 & 4 \\\\\n",
       "\t4 & 2020-03-09 & 17 & 6 \\\\\n",
       "\t5 & 2020-03-10 & 22 & 5 \\\\\n",
       "\t6 & 2020-03-11 & 31 & 9 \\\\\n",
       "\t7 & 2020-03-12 & 51 & 20 \\\\\n",
       "\t8 & 2020-03-13 & 68 & 17 \\\\\n",
       "\t9 & 2020-03-16 & 177 & 52 \\\\\n",
       "\t10 & 2020-03-17 & 238 & 61 \\\\\n",
       "\t11 & 2020-03-18 & 287 & 49 \\\\\n",
       "\t12 & 2020-03-19 & 355 & 68 \\\\\n",
       "\t13 & 2020-03-20 & 425 & 70 \\\\\n",
       "\t14 & 2020-03-23 & 749 & 115 \\\\\n",
       "\t15 & 2020-03-24 & 901 & 152 \\\\\n",
       "\t16 & 2020-03-25 & 1051 & 150 \\\\\n",
       "\t17 & 2020-03-26 & 1221 & 170 \\\\\n",
       "\t18 & 2020-03-27 & 1389 & 168 \\\\\n",
       "\t19 & 2020-03-30 & 2055 & 193 \\\\\n",
       "\t20 & 2020-03-31 & 2311 & 256 \\\\\n",
       "\t21 & 2020-04-01 & 2554 & 243 \\\\\n",
       "\t22 & 2020-04-02 & 2946 & 392 \\\\\n",
       "\t23 & 2020-04-03 & 3383 & 437 \\\\\n",
       "\t24 & 2020-04-06 & 4413 & 311 \\\\\n",
       "\t25 & 2020-04-07 & 4848 & 435 \\\\\n",
       "\t26 & 2020-04-08 & 5205 & 357 \\\\\n",
       "\t27 & 2020-04-09 & 5575 & 370 \\\\\n",
       "\t28 & 2020-04-14 & 7202 & 268 \\\\\n",
       "\t29 & 2020-04-15 & 7582 & 380 \\\\\n",
       "\t30 & 2020-04-16 & 7918 & 336 \\\\\n",
       "\t$\\dots$ & $\\dots$ & $\\dots$ & $\\dots$ \\\\\n",
       "\\end{tabular}\n"
      ],
      "text/plain": [
       "\u001b[1m251×3 DataFrame\u001b[0m\n",
       "\u001b[1m Row \u001b[0m│\u001b[1m Dzien      \u001b[0m\u001b[1m lacznie \u001b[0m\u001b[1m dzienny_przyrost \u001b[0m\n",
       "\u001b[1m     \u001b[0m│\u001b[90m Date…      \u001b[0m\u001b[90m Int64   \u001b[0m\u001b[90m Int64            \u001b[0m\n",
       "─────┼───────────────────────────────────────\n",
       "   1 │ 2020-03-04        1                 1\n",
       "   2 │ 2020-03-05        1                 0\n",
       "   3 │ 2020-03-06        5                 4\n",
       "   4 │ 2020-03-09       17                 6\n",
       "   5 │ 2020-03-10       22                 5\n",
       "   6 │ 2020-03-11       31                 9\n",
       "   7 │ 2020-03-12       51                20\n",
       "   8 │ 2020-03-13       68                17\n",
       "   9 │ 2020-03-16      177                52\n",
       "  10 │ 2020-03-17      238                61\n",
       "  11 │ 2020-03-18      287                49\n",
       "  ⋮  │     ⋮          ⋮            ⋮\n",
       " 242 │ 2021-02-18  1623218              8777\n",
       " 243 │ 2021-02-19  1631727              8510\n",
       " 244 │ 2021-02-22  1648962              6310\n",
       " 245 │ 2021-02-23  1661109             12146\n",
       " 246 │ 2021-02-24  1673252             12142\n",
       " 247 │ 2021-02-25  1684788             11539\n",
       " 248 │ 2021-02-26  1696885             12100\n",
       " 249 │ 2021-03-01  1719708              7937\n",
       " 250 │ 2021-03-02  1735406             15698\n",
       " 251 │ 2021-03-03  1735406             15698\n",
       "\u001b[36m                             230 rows omitted\u001b[0m"
      ]
     },
     "execution_count": 4,
     "metadata": {},
     "output_type": "execute_result"
    }
   ],
   "source": [
    "zloto_przed = DataFrame(CSV.File(\"ZLOTO_PRZED.txt\"))\n",
    "zloto_covid = DataFrame(CSV.File(\"ZLOTO_COVID.txt\"))\n",
    "dni_zloto = readdlm(\"only_dates.txt\")\n",
    "dni = readdlm(\"daty_gielda.txt\")\n",
    "zarazenia_w_dni_GPW = DataFrame(CSV.File(\"zarazeni_w_dni_GPW.txt\"))"
   ]
  },
  {
   "cell_type": "code",
   "execution_count": 5,
   "metadata": {},
   "outputs": [
    {
     "data": {
      "text/plain": [
       "srednia_kroczaca (generic function with 1 method)"
      ]
     },
     "execution_count": 5,
     "metadata": {},
     "output_type": "execute_result"
    }
   ],
   "source": [
    "function srednia_kroczaca(dane::Array, kolumna::Int64, zakres_sredniej::Int64)\n",
    "    dane2 = Vector{Any}(undef, size(dane)[1])\n",
    "    dane2 = dane[1:size(dane)[1], kolumna]\n",
    "    for i in 2+zakres_sredniej:size(dane)[1]-zakres_sredniej\n",
    "        suma = sum(dane[i-zakres_sredniej:i+zakres_sredniej, kolumna])\n",
    "        dane2[i] = suma/(2*zakres_sredniej + 1)\n",
    "    end\n",
    "    return dane2[zakres_sredniej:size(dane)[1]-zakres_sredniej]\n",
    "end"
   ]
  },
  {
   "cell_type": "code",
   "execution_count": 6,
   "metadata": {},
   "outputs": [
    {
     "ename": "LoadError",
     "evalue": "\u001b[91mUndefVarError: ccc_przed not defined\u001b[39m",
     "output_type": "error",
     "traceback": [
      "\u001b[91mUndefVarError: ccc_przed not defined\u001b[39m",
      "",
      "Stacktrace:",
      " [1] top-level scope at In[6]:1",
      " [2] include_string(::Function, ::Module, ::String, ::String) at ./loading.jl:1091"
     ]
    }
   ],
   "source": [
    "otwarcie_przed = plot(dni[1:end], ccc_przed[1:end, 2], \n",
    "    title=\"Ceny akcji firmy CCC\", \n",
    "    ylabel=\"cena\",\n",
    "    label = \"w roku 2019/20\",\n",
    "    legend=:best, \n",
    "    titlefont=font(10),\n",
    "    xtickfont=font(8), \n",
    "    ytickfont=font(8))\n",
    "otwarcie = plot!(ccc_covid[1:end, 2], label = \"w roku 2020/21\")\n",
    "\n",
    "wolumen_przed = plot(dni[1:end], ccc_przed[1:end, 6], \n",
    "    xlabel = \"data\", \n",
    "    ylabel=\"wolumen\",\n",
    "    legend=false,\n",
    "    titlefont=font(10),\n",
    "    xtickfont=font(8), \n",
    "    ytickfont=font(8))\n",
    "wolumen = plot!(ccc_covid[1:end, 6])\n",
    "\n",
    "plot(otwarcie, wolumen, layout=grid(2,1, heights=[0.8,0.3]))"
   ]
  },
  {
   "cell_type": "code",
   "execution_count": 7,
   "metadata": {},
   "outputs": [
    {
     "ename": "LoadError",
     "evalue": "\u001b[91mUndefVarError: ccc_przed not defined\u001b[39m",
     "output_type": "error",
     "traceback": [
      "\u001b[91mUndefVarError: ccc_przed not defined\u001b[39m",
      "",
      "Stacktrace:",
      " [1] top-level scope at In[7]:1",
      " [2] include_string(::Function, ::Module, ::String, ::String) at ./loading.jl:1091"
     ]
    }
   ],
   "source": [
    "std(ccc_przed[1:end, 2]; corrected = false)"
   ]
  },
  {
   "cell_type": "code",
   "execution_count": 8,
   "metadata": {},
   "outputs": [
    {
     "ename": "LoadError",
     "evalue": "\u001b[91mUndefVarError: ccc_covid not defined\u001b[39m",
     "output_type": "error",
     "traceback": [
      "\u001b[91mUndefVarError: ccc_covid not defined\u001b[39m",
      "",
      "Stacktrace:",
      " [1] top-level scope at In[8]:1",
      " [2] include_string(::Function, ::Module, ::String, ::String) at ./loading.jl:1091"
     ]
    }
   ],
   "source": [
    "std(ccc_covid[1:end, 2]; corrected = false)"
   ]
  },
  {
   "cell_type": "code",
   "execution_count": 9,
   "metadata": {},
   "outputs": [
    {
     "ename": "LoadError",
     "evalue": "\u001b[91mUndefVarError: ccc_covid not defined\u001b[39m",
     "output_type": "error",
     "traceback": [
      "\u001b[91mUndefVarError: ccc_covid not defined\u001b[39m",
      "",
      "Stacktrace:",
      " [1] top-level scope at In[9]:1",
      " [2] include_string(::Function, ::Module, ::String, ::String) at ./loading.jl:1091"
     ]
    }
   ],
   "source": [
    "sum(ccc_covid[1:end, 6] - ccc_przed[1:end, 6])"
   ]
  },
  {
   "cell_type": "code",
   "execution_count": 10,
   "metadata": {},
   "outputs": [
    {
     "ename": "LoadError",
     "evalue": "\u001b[91mUndefVarError: ccc_covid not defined\u001b[39m",
     "output_type": "error",
     "traceback": [
      "\u001b[91mUndefVarError: ccc_covid not defined\u001b[39m",
      "",
      "Stacktrace:",
      " [1] top-level scope at In[10]:1",
      " [2] include_string(::Function, ::Module, ::String, ::String) at ./loading.jl:1091"
     ]
    }
   ],
   "source": [
    "cor(zarazenia_w_dni_GPW[1:end, 3], ccc_covid[1:end, 2])"
   ]
  },
  {
   "cell_type": "code",
   "execution_count": 11,
   "metadata": {},
   "outputs": [
    {
     "ename": "LoadError",
     "evalue": "\u001b[91mUndefVarError: cd_proj_przed not defined\u001b[39m",
     "output_type": "error",
     "traceback": [
      "\u001b[91mUndefVarError: cd_proj_przed not defined\u001b[39m",
      "",
      "Stacktrace:",
      " [1] top-level scope at In[11]:1",
      " [2] include_string(::Function, ::Module, ::String, ::String) at ./loading.jl:1091"
     ]
    }
   ],
   "source": [
    "otwarcie_przed = plot(dni[1:end], cd_proj_przed[1:end, 2], \n",
    "    title=\"Ceny akcji firmy CD PROJEKT\",\n",
    "    ylabel=\"cena\",\n",
    "    legend=false,\n",
    "    titlefont=font(10),\n",
    "    xtickfont=font(8), \n",
    "    ytickfont=font(8))\n",
    "otwarcie = plot!(cd_proj_covid[1:end, 2])\n",
    "\n",
    "wolumen_przed = plot(dni[1:end], cd_proj_przed[1:end, 6],\n",
    "    xlabel = \"data\", \n",
    "    ylabel=\"wolumen\",\n",
    "    label = \"w roku 2019/20\",\n",
    "    legend=:topleft, \n",
    "    titlefont=font(10),\n",
    "    xtickfont=font(8), \n",
    "    ytickfont=font(8))\n",
    "wolumen = plot!(cd_proj_covid[1:end, 6], label = \"w roku 2020/21\")\n",
    "\n",
    "plot(otwarcie, wolumen, layout=grid(2,1, heights=[0.8,0.3]))"
   ]
  },
  {
   "cell_type": "code",
   "execution_count": 12,
   "metadata": {},
   "outputs": [
    {
     "ename": "LoadError",
     "evalue": "\u001b[91mUndefVarError: cd_proj_przed not defined\u001b[39m",
     "output_type": "error",
     "traceback": [
      "\u001b[91mUndefVarError: cd_proj_przed not defined\u001b[39m",
      "",
      "Stacktrace:",
      " [1] top-level scope at In[12]:1",
      " [2] include_string(::Function, ::Module, ::String, ::String) at ./loading.jl:1091"
     ]
    }
   ],
   "source": [
    "std(cd_proj_przed[1:end, 2]; corrected = false)"
   ]
  },
  {
   "cell_type": "code",
   "execution_count": 13,
   "metadata": {},
   "outputs": [
    {
     "ename": "LoadError",
     "evalue": "\u001b[91mUndefVarError: cd_proj_covid not defined\u001b[39m",
     "output_type": "error",
     "traceback": [
      "\u001b[91mUndefVarError: cd_proj_covid not defined\u001b[39m",
      "",
      "Stacktrace:",
      " [1] top-level scope at In[13]:1",
      " [2] include_string(::Function, ::Module, ::String, ::String) at ./loading.jl:1091"
     ]
    }
   ],
   "source": [
    "std(cd_proj_covid[1:end, 2]; corrected = false)"
   ]
  },
  {
   "cell_type": "code",
   "execution_count": 14,
   "metadata": {},
   "outputs": [
    {
     "ename": "LoadError",
     "evalue": "\u001b[91mUndefVarError: cd_proj_covid not defined\u001b[39m",
     "output_type": "error",
     "traceback": [
      "\u001b[91mUndefVarError: cd_proj_covid not defined\u001b[39m",
      "",
      "Stacktrace:",
      " [1] top-level scope at In[14]:1",
      " [2] include_string(::Function, ::Module, ::String, ::String) at ./loading.jl:1091"
     ]
    }
   ],
   "source": [
    "sum(cd_proj_covid[1:end, 6] - cd_proj_przed[1:end, 6])"
   ]
  },
  {
   "cell_type": "code",
   "execution_count": 15,
   "metadata": {},
   "outputs": [
    {
     "ename": "LoadError",
     "evalue": "\u001b[91mUndefVarError: cd_proj_covid not defined\u001b[39m",
     "output_type": "error",
     "traceback": [
      "\u001b[91mUndefVarError: cd_proj_covid not defined\u001b[39m",
      "",
      "Stacktrace:",
      " [1] top-level scope at In[15]:1",
      " [2] include_string(::Function, ::Module, ::String, ::String) at ./loading.jl:1091"
     ]
    }
   ],
   "source": [
    "cor(zarazenia_w_dni_GPW[1:end, 3], cd_proj_covid[1:end, 2])"
   ]
  },
  {
   "cell_type": "code",
   "execution_count": 16,
   "metadata": {},
   "outputs": [
    {
     "ename": "LoadError",
     "evalue": "\u001b[91mUndefVarError: kghm_przed not defined\u001b[39m",
     "output_type": "error",
     "traceback": [
      "\u001b[91mUndefVarError: kghm_przed not defined\u001b[39m",
      "",
      "Stacktrace:",
      " [1] top-level scope at In[16]:1",
      " [2] include_string(::Function, ::Module, ::String, ::String) at ./loading.jl:1091"
     ]
    }
   ],
   "source": [
    "otwarcie_przed = plot(dni[1:end], kghm_przed[1:end, 2], \n",
    "    title=\"Ceny akcji firmy KGHM\",  \n",
    "    ylabel=\"cena\",\n",
    "    label = \"w roku 2019/20\", \n",
    "    legend=:topleft,\n",
    "    titlefont=font(10),\n",
    "    legendfont=font(8),\n",
    "    xtickfont=font(8), \n",
    "    ytickfont=font(8))\n",
    "otwarcie = plot!(kghm_covid[1:end, 2], label = \"w roku 2020/21\")\n",
    "\n",
    "wolumen_przed = plot(dni[1:end], kghm_przed[1:end, 6], \n",
    "    xlabel = \"data\", \n",
    "    ylabel=\"wolumen\", \n",
    "    legend=false,\n",
    "    titlefont=font(10),\n",
    "    xtickfont=font(8), \n",
    "    ytickfont=font(8))\n",
    "wolumen = plot!(kghm_covid[1:end, 6])\n",
    "\n",
    "plot(otwarcie, wolumen, layout=grid(2,1, heights=[0.6,0.5]))"
   ]
  },
  {
   "cell_type": "code",
   "execution_count": 17,
   "metadata": {},
   "outputs": [
    {
     "ename": "LoadError",
     "evalue": "\u001b[91mUndefVarError: kghm_przed not defined\u001b[39m",
     "output_type": "error",
     "traceback": [
      "\u001b[91mUndefVarError: kghm_przed not defined\u001b[39m",
      "",
      "Stacktrace:",
      " [1] top-level scope at In[17]:1",
      " [2] include_string(::Function, ::Module, ::String, ::String) at ./loading.jl:1091"
     ]
    }
   ],
   "source": [
    "std(kghm_przed[1:end, 2]; corrected = false)"
   ]
  },
  {
   "cell_type": "code",
   "execution_count": 18,
   "metadata": {},
   "outputs": [
    {
     "ename": "LoadError",
     "evalue": "\u001b[91mUndefVarError: kghm_covid not defined\u001b[39m",
     "output_type": "error",
     "traceback": [
      "\u001b[91mUndefVarError: kghm_covid not defined\u001b[39m",
      "",
      "Stacktrace:",
      " [1] top-level scope at In[18]:1",
      " [2] include_string(::Function, ::Module, ::String, ::String) at ./loading.jl:1091"
     ]
    }
   ],
   "source": [
    "std(kghm_covid[1:end, 2]; corrected = false)"
   ]
  },
  {
   "cell_type": "code",
   "execution_count": 19,
   "metadata": {},
   "outputs": [
    {
     "ename": "LoadError",
     "evalue": "\u001b[91mUndefVarError: kghm_covid not defined\u001b[39m",
     "output_type": "error",
     "traceback": [
      "\u001b[91mUndefVarError: kghm_covid not defined\u001b[39m",
      "",
      "Stacktrace:",
      " [1] top-level scope at In[19]:1",
      " [2] include_string(::Function, ::Module, ::String, ::String) at ./loading.jl:1091"
     ]
    }
   ],
   "source": [
    "sum(kghm_covid[1:end, 6] - kghm_przed[1:end, 6])"
   ]
  },
  {
   "cell_type": "code",
   "execution_count": 20,
   "metadata": {},
   "outputs": [
    {
     "ename": "LoadError",
     "evalue": "\u001b[91mUndefVarError: kghm_covid not defined\u001b[39m",
     "output_type": "error",
     "traceback": [
      "\u001b[91mUndefVarError: kghm_covid not defined\u001b[39m",
      "",
      "Stacktrace:",
      " [1] top-level scope at In[20]:1",
      " [2] include_string(::Function, ::Module, ::String, ::String) at ./loading.jl:1091"
     ]
    }
   ],
   "source": [
    "cor(zarazenia_w_dni_GPW[1:end, 3], kghm_covid[1:end, 2])"
   ]
  },
  {
   "cell_type": "code",
   "execution_count": 21,
   "metadata": {},
   "outputs": [
    {
     "ename": "LoadError",
     "evalue": "\u001b[91mUndefVarError: orlen_przed not defined\u001b[39m",
     "output_type": "error",
     "traceback": [
      "\u001b[91mUndefVarError: orlen_przed not defined\u001b[39m",
      "",
      "Stacktrace:",
      " [1] top-level scope at In[21]:1",
      " [2] include_string(::Function, ::Module, ::String, ::String) at ./loading.jl:1091"
     ]
    }
   ],
   "source": [
    "otwarcie_przed = plot(dni[1:end], orlen_przed[1:end, 2], \n",
    "    title=\"Ceny akcji firmy ORLEN\",\n",
    "    ylabel=\"cena\",\n",
    "    legend=false,\n",
    "    titlefont=font(10),\n",
    "    xtickfont=font(8), \n",
    "    ytickfont=font(8))\n",
    "otwarcie = plot!(orlen_covid[1:end, 2])\n",
    "\n",
    "wolumen_przed = plot(dni[1:end], orlen_przed[1:end, 6],  \n",
    "    xlabel = \"data\", \n",
    "    ylabel=\"wolumen\",\n",
    "    label = \"w roku 2019/20\", \n",
    "    legend=:topright,\n",
    "    titlefont=font(10),\n",
    "    xtickfont=font(8), \n",
    "    ytickfont=font(8))\n",
    "wolumen = plot!(orlen_covid[1:end, 6], label = \"w roku 2020/21\")\n",
    "\n",
    "plot(otwarcie, wolumen, layout=grid(2,1, heights=[0.7,0.4]))"
   ]
  },
  {
   "cell_type": "code",
   "execution_count": 22,
   "metadata": {},
   "outputs": [
    {
     "ename": "LoadError",
     "evalue": "\u001b[91mUndefVarError: orlen_przed not defined\u001b[39m",
     "output_type": "error",
     "traceback": [
      "\u001b[91mUndefVarError: orlen_przed not defined\u001b[39m",
      "",
      "Stacktrace:",
      " [1] top-level scope at In[22]:1",
      " [2] include_string(::Function, ::Module, ::String, ::String) at ./loading.jl:1091"
     ]
    }
   ],
   "source": [
    "std(orlen_przed[1:end, 2]; corrected = false)"
   ]
  },
  {
   "cell_type": "code",
   "execution_count": 23,
   "metadata": {},
   "outputs": [
    {
     "ename": "LoadError",
     "evalue": "\u001b[91mUndefVarError: orlen_covid not defined\u001b[39m",
     "output_type": "error",
     "traceback": [
      "\u001b[91mUndefVarError: orlen_covid not defined\u001b[39m",
      "",
      "Stacktrace:",
      " [1] top-level scope at In[23]:1",
      " [2] include_string(::Function, ::Module, ::String, ::String) at ./loading.jl:1091"
     ]
    }
   ],
   "source": [
    "std(orlen_covid[1:end, 2]; corrected = false)"
   ]
  },
  {
   "cell_type": "code",
   "execution_count": 24,
   "metadata": {},
   "outputs": [
    {
     "ename": "LoadError",
     "evalue": "\u001b[91mUndefVarError: orlen_covid not defined\u001b[39m",
     "output_type": "error",
     "traceback": [
      "\u001b[91mUndefVarError: orlen_covid not defined\u001b[39m",
      "",
      "Stacktrace:",
      " [1] top-level scope at In[24]:1",
      " [2] include_string(::Function, ::Module, ::String, ::String) at ./loading.jl:1091"
     ]
    }
   ],
   "source": [
    "sum(orlen_covid[1:end, 6] - orlen_przed[1:end, 6])"
   ]
  },
  {
   "cell_type": "code",
   "execution_count": 25,
   "metadata": {},
   "outputs": [
    {
     "ename": "LoadError",
     "evalue": "\u001b[91mUndefVarError: orlen_covid not defined\u001b[39m",
     "output_type": "error",
     "traceback": [
      "\u001b[91mUndefVarError: orlen_covid not defined\u001b[39m",
      "",
      "Stacktrace:",
      " [1] top-level scope at In[25]:1",
      " [2] include_string(::Function, ::Module, ::String, ::String) at ./loading.jl:1091"
     ]
    }
   ],
   "source": [
    "cor(zarazenia_w_dni_GPW[1:end, 3], orlen_covid[1:end, 2])"
   ]
  },
  {
   "cell_type": "code",
   "execution_count": 26,
   "metadata": {},
   "outputs": [
    {
     "ename": "LoadError",
     "evalue": "\u001b[91mUndefVarError: santander_przed not defined\u001b[39m",
     "output_type": "error",
     "traceback": [
      "\u001b[91mUndefVarError: santander_przed not defined\u001b[39m",
      "",
      "Stacktrace:",
      " [1] top-level scope at In[26]:1",
      " [2] include_string(::Function, ::Module, ::String, ::String) at ./loading.jl:1091"
     ]
    }
   ],
   "source": [
    "otwarcie_przed = plot(dni[1:end], santander_przed[1:end, 2], \n",
    "    title=\"Ceny akcji firmy SANTANDER\",\n",
    "    ylabel=\"cena\",\n",
    "    label = \"w roku 2019/20\", \n",
    "    titlefont=font(10),\n",
    "    xtickfont=font(8), \n",
    "    ytickfont=font(8))\n",
    "otwarcie = plot!(santander_covid[1:end, 2], label = \"w roku 2020/21\")\n",
    "\n",
    "wolumen_przed = plot(dni[1:end], santander_przed[1:end, 6],\n",
    "    xlabel = \"data\", \n",
    "    ylabel=\"wolumen\",\n",
    "    legend=:false,\n",
    "    titlefont=font(10),\n",
    "    xtickfont=font(8), \n",
    "    ytickfont=font(8))\n",
    "wolumen = plot!(santander_covid[1:end, 6])\n",
    "\n",
    "plot(otwarcie, wolumen, layout=grid(2,1, heights=[0.8,0.3]))"
   ]
  },
  {
   "cell_type": "code",
   "execution_count": 27,
   "metadata": {},
   "outputs": [
    {
     "ename": "LoadError",
     "evalue": "\u001b[91mUndefVarError: santander_przed not defined\u001b[39m",
     "output_type": "error",
     "traceback": [
      "\u001b[91mUndefVarError: santander_przed not defined\u001b[39m",
      "",
      "Stacktrace:",
      " [1] top-level scope at In[27]:1",
      " [2] include_string(::Function, ::Module, ::String, ::String) at ./loading.jl:1091"
     ]
    }
   ],
   "source": [
    "std(santander_przed[1:end, 2]; corrected = false)"
   ]
  },
  {
   "cell_type": "code",
   "execution_count": 28,
   "metadata": {},
   "outputs": [
    {
     "ename": "LoadError",
     "evalue": "\u001b[91mUndefVarError: santander_covid not defined\u001b[39m",
     "output_type": "error",
     "traceback": [
      "\u001b[91mUndefVarError: santander_covid not defined\u001b[39m",
      "",
      "Stacktrace:",
      " [1] top-level scope at In[28]:1",
      " [2] include_string(::Function, ::Module, ::String, ::String) at ./loading.jl:1091"
     ]
    }
   ],
   "source": [
    "std(santander_covid[1:end, 2]; corrected = false)"
   ]
  },
  {
   "cell_type": "code",
   "execution_count": 29,
   "metadata": {},
   "outputs": [
    {
     "ename": "LoadError",
     "evalue": "\u001b[91mUndefVarError: santander_covid not defined\u001b[39m",
     "output_type": "error",
     "traceback": [
      "\u001b[91mUndefVarError: santander_covid not defined\u001b[39m",
      "",
      "Stacktrace:",
      " [1] top-level scope at In[29]:1",
      " [2] include_string(::Function, ::Module, ::String, ::String) at ./loading.jl:1091"
     ]
    }
   ],
   "source": [
    "sum(santander_covid[1:end, 6] - santander_przed[1:end, 6])"
   ]
  },
  {
   "cell_type": "code",
   "execution_count": 30,
   "metadata": {},
   "outputs": [
    {
     "ename": "LoadError",
     "evalue": "\u001b[91mUndefVarError: santander_covid not defined\u001b[39m",
     "output_type": "error",
     "traceback": [
      "\u001b[91mUndefVarError: santander_covid not defined\u001b[39m",
      "",
      "Stacktrace:",
      " [1] top-level scope at In[30]:1",
      " [2] include_string(::Function, ::Module, ::String, ::String) at ./loading.jl:1091"
     ]
    }
   ],
   "source": [
    "cor(zarazenia_w_dni_GPW[1:end, 3], santander_covid[1:end, 2])"
   ]
  },
  {
   "cell_type": "code",
   "execution_count": 31,
   "metadata": {},
   "outputs": [
    {
     "data": {
      "image/svg+xml": [
       "<?xml version=\"1.0\" encoding=\"utf-8\"?>\n",
       "<svg xmlns=\"http://www.w3.org/2000/svg\" xmlns:xlink=\"http://www.w3.org/1999/xlink\" width=\"600\" height=\"400\" viewBox=\"0 0 2400 1600\">\n",
       "<defs>\n",
       "  <clipPath id=\"clip360\">\n",
       "    <rect x=\"0\" y=\"0\" width=\"2400\" height=\"1600\"/>\n",
       "  </clipPath>\n",
       "</defs>\n",
       "<path clip-path=\"url(#clip360)\" d=\"\n",
       "M0 1600 L2400 1600 L2400 0 L0 0  Z\n",
       "  \" fill=\"#ffffff\" fill-rule=\"evenodd\" fill-opacity=\"1\"/>\n",
       "<defs>\n",
       "  <clipPath id=\"clip361\">\n",
       "    <rect x=\"480\" y=\"0\" width=\"1681\" height=\"1600\"/>\n",
       "  </clipPath>\n",
       "</defs>\n",
       "<path clip-path=\"url(#clip360)\" d=\"\n",
       "M209.172 1423.18 L2352.76 1423.18 L2352.76 106.192 L209.172 106.192  Z\n",
       "  \" fill=\"#ffffff\" fill-rule=\"evenodd\" fill-opacity=\"1\"/>\n",
       "<defs>\n",
       "  <clipPath id=\"clip362\">\n",
       "    <rect x=\"209\" y=\"106\" width=\"2145\" height=\"1318\"/>\n",
       "  </clipPath>\n",
       "</defs>\n",
       "<polyline clip-path=\"url(#clip362)\" style=\"stroke:#000000; stroke-width:2; stroke-opacity:0.1; fill:none\" points=\"\n",
       "  466.174,1423.18 466.174,106.192 \n",
       "  \"/>\n",
       "<polyline clip-path=\"url(#clip362)\" style=\"stroke:#000000; stroke-width:2; stroke-opacity:0.1; fill:none\" points=\"\n",
       "  670.362,1423.18 670.362,106.192 \n",
       "  \"/>\n",
       "<polyline clip-path=\"url(#clip362)\" style=\"stroke:#000000; stroke-width:2; stroke-opacity:0.1; fill:none\" points=\"\n",
       "  874.551,1423.18 874.551,106.192 \n",
       "  \"/>\n",
       "<polyline clip-path=\"url(#clip362)\" style=\"stroke:#000000; stroke-width:2; stroke-opacity:0.1; fill:none\" points=\"\n",
       "  1078.74,1423.18 1078.74,106.192 \n",
       "  \"/>\n",
       "<polyline clip-path=\"url(#clip362)\" style=\"stroke:#000000; stroke-width:2; stroke-opacity:0.1; fill:none\" points=\"\n",
       "  1282.93,1423.18 1282.93,106.192 \n",
       "  \"/>\n",
       "<polyline clip-path=\"url(#clip362)\" style=\"stroke:#000000; stroke-width:2; stroke-opacity:0.1; fill:none\" points=\"\n",
       "  1487.12,1423.18 1487.12,106.192 \n",
       "  \"/>\n",
       "<polyline clip-path=\"url(#clip362)\" style=\"stroke:#000000; stroke-width:2; stroke-opacity:0.1; fill:none\" points=\"\n",
       "  1691.3,1423.18 1691.3,106.192 \n",
       "  \"/>\n",
       "<polyline clip-path=\"url(#clip362)\" style=\"stroke:#000000; stroke-width:2; stroke-opacity:0.1; fill:none\" points=\"\n",
       "  1895.49,1423.18 1895.49,106.192 \n",
       "  \"/>\n",
       "<polyline clip-path=\"url(#clip362)\" style=\"stroke:#000000; stroke-width:2; stroke-opacity:0.1; fill:none\" points=\"\n",
       "  2099.68,1423.18 2099.68,106.192 \n",
       "  \"/>\n",
       "<polyline clip-path=\"url(#clip360)\" style=\"stroke:#000000; stroke-width:4; stroke-opacity:1; fill:none\" points=\"\n",
       "  209.172,1423.18 2352.76,1423.18 \n",
       "  \"/>\n",
       "<polyline clip-path=\"url(#clip360)\" style=\"stroke:#000000; stroke-width:4; stroke-opacity:1; fill:none\" points=\"\n",
       "  466.174,1423.18 466.174,1407.38 \n",
       "  \"/>\n",
       "<polyline clip-path=\"url(#clip360)\" style=\"stroke:#000000; stroke-width:4; stroke-opacity:1; fill:none\" points=\"\n",
       "  670.362,1423.18 670.362,1407.38 \n",
       "  \"/>\n",
       "<polyline clip-path=\"url(#clip360)\" style=\"stroke:#000000; stroke-width:4; stroke-opacity:1; fill:none\" points=\"\n",
       "  874.551,1423.18 874.551,1407.38 \n",
       "  \"/>\n",
       "<polyline clip-path=\"url(#clip360)\" style=\"stroke:#000000; stroke-width:4; stroke-opacity:1; fill:none\" points=\"\n",
       "  1078.74,1423.18 1078.74,1407.38 \n",
       "  \"/>\n",
       "<polyline clip-path=\"url(#clip360)\" style=\"stroke:#000000; stroke-width:4; stroke-opacity:1; fill:none\" points=\"\n",
       "  1282.93,1423.18 1282.93,1407.38 \n",
       "  \"/>\n",
       "<polyline clip-path=\"url(#clip360)\" style=\"stroke:#000000; stroke-width:4; stroke-opacity:1; fill:none\" points=\"\n",
       "  1487.12,1423.18 1487.12,1407.38 \n",
       "  \"/>\n",
       "<polyline clip-path=\"url(#clip360)\" style=\"stroke:#000000; stroke-width:4; stroke-opacity:1; fill:none\" points=\"\n",
       "  1691.3,1423.18 1691.3,1407.38 \n",
       "  \"/>\n",
       "<polyline clip-path=\"url(#clip360)\" style=\"stroke:#000000; stroke-width:4; stroke-opacity:1; fill:none\" points=\"\n",
       "  1895.49,1423.18 1895.49,1407.38 \n",
       "  \"/>\n",
       "<polyline clip-path=\"url(#clip360)\" style=\"stroke:#000000; stroke-width:4; stroke-opacity:1; fill:none\" points=\"\n",
       "  2099.68,1423.18 2099.68,1407.38 \n",
       "  \"/>\n",
       "<path clip-path=\"url(#clip360)\" d=\"M 0 0 M431.522 1467.44 Q428.188 1467.44 426.267 1469.22 Q424.369 1471 424.369 1474.13 Q424.369 1477.25 426.267 1479.04 Q428.188 1480.82 431.522 1480.82 Q434.855 1480.82 436.776 1479.04 Q438.698 1477.23 438.698 1474.13 Q438.698 1471 436.776 1469.22 Q434.878 1467.44 431.522 1467.44 M426.846 1465.45 Q423.836 1464.71 422.147 1462.65 Q420.48 1460.59 420.48 1457.63 Q420.48 1453.48 423.42 1451.07 Q426.383 1448.67 431.522 1448.67 Q436.684 1448.67 439.623 1451.07 Q442.563 1453.48 442.563 1457.63 Q442.563 1460.59 440.873 1462.65 Q439.207 1464.71 436.221 1465.45 Q439.6 1466.24 441.475 1468.53 Q443.373 1470.82 443.373 1474.13 Q443.373 1479.15 440.295 1481.84 Q437.239 1484.52 431.522 1484.52 Q425.804 1484.52 422.725 1481.84 Q419.67 1479.15 419.67 1474.13 Q419.67 1470.82 421.568 1468.53 Q423.466 1466.24 426.846 1465.45 M425.133 1458.06 Q425.133 1460.75 426.799 1462.25 Q428.489 1463.76 431.522 1463.76 Q434.531 1463.76 436.221 1462.25 Q437.934 1460.75 437.934 1458.06 Q437.934 1455.38 436.221 1453.88 Q434.531 1452.37 431.522 1452.37 Q428.489 1452.37 426.799 1453.88 Q425.133 1455.38 425.133 1458.06 Z\" fill=\"#000000\" fill-rule=\"evenodd\" fill-opacity=\"1\" /><path clip-path=\"url(#clip360)\" d=\"M 0 0 M445.688 1468.97 L458.165 1468.97 L458.165 1472.76 L445.688 1472.76 L445.688 1468.97 Z\" fill=\"#000000\" fill-rule=\"evenodd\" fill-opacity=\"1\" /><path clip-path=\"url(#clip360)\" d=\"M 0 0 M473.234 1452.37 Q469.623 1452.37 467.795 1455.94 Q465.989 1459.48 465.989 1466.61 Q465.989 1473.71 467.795 1477.28 Q469.623 1480.82 473.234 1480.82 Q476.869 1480.82 478.674 1477.28 Q480.503 1473.71 480.503 1466.61 Q480.503 1459.48 478.674 1455.94 Q476.869 1452.37 473.234 1452.37 M473.234 1448.67 Q479.045 1448.67 482.1 1453.27 Q485.179 1457.86 485.179 1466.61 Q485.179 1475.33 482.1 1479.94 Q479.045 1484.52 473.234 1484.52 Q467.424 1484.52 464.346 1479.94 Q461.29 1475.33 461.29 1466.61 Q461.29 1457.86 464.346 1453.27 Q467.424 1448.67 473.234 1448.67 Z\" fill=\"#000000\" fill-rule=\"evenodd\" fill-opacity=\"1\" /><path clip-path=\"url(#clip360)\" d=\"M 0 0 M503.095 1453.37 L491.29 1471.81 L503.095 1471.81 L503.095 1453.37 M501.868 1449.29 L507.748 1449.29 L507.748 1471.81 L512.679 1471.81 L512.679 1475.7 L507.748 1475.7 L507.748 1483.85 L503.095 1483.85 L503.095 1475.7 L487.494 1475.7 L487.494 1471.19 L501.868 1449.29 Z\" fill=\"#000000\" fill-rule=\"evenodd\" fill-opacity=\"1\" /><path clip-path=\"url(#clip360)\" d=\"M 0 0 M613.823 1479.92 L621.462 1479.92 L621.462 1453.55 L613.152 1455.22 L613.152 1450.96 L621.416 1449.29 L626.092 1449.29 L626.092 1479.92 L633.731 1479.92 L633.731 1483.85 L613.823 1483.85 L613.823 1479.92 Z\" fill=\"#000000\" fill-rule=\"evenodd\" fill-opacity=\"1\" /><path clip-path=\"url(#clip360)\" d=\"M 0 0 M638.846 1449.29 L657.203 1449.29 L657.203 1453.23 L643.129 1453.23 L643.129 1461.7 Q644.147 1461.35 645.166 1461.19 Q646.184 1461 647.203 1461 Q652.99 1461 656.369 1464.18 Q659.749 1467.35 659.749 1472.76 Q659.749 1478.34 656.277 1481.44 Q652.805 1484.52 646.485 1484.52 Q644.309 1484.52 642.041 1484.15 Q639.796 1483.78 637.388 1483.04 L637.388 1478.34 Q639.471 1479.48 641.694 1480.03 Q643.916 1480.59 646.393 1480.59 Q650.397 1480.59 652.735 1478.48 Q655.073 1476.38 655.073 1472.76 Q655.073 1469.15 652.735 1467.05 Q650.397 1464.94 646.393 1464.94 Q644.518 1464.94 642.643 1465.36 Q640.791 1465.77 638.846 1466.65 L638.846 1449.29 Z\" fill=\"#000000\" fill-rule=\"evenodd\" fill-opacity=\"1\" /><path clip-path=\"url(#clip360)\" d=\"M 0 0 M662.064 1468.97 L674.541 1468.97 L674.541 1472.76 L662.064 1472.76 L662.064 1468.97 Z\" fill=\"#000000\" fill-rule=\"evenodd\" fill-opacity=\"1\" /><path clip-path=\"url(#clip360)\" d=\"M 0 0 M689.61 1452.37 Q685.999 1452.37 684.17 1455.94 Q682.365 1459.48 682.365 1466.61 Q682.365 1473.71 684.17 1477.28 Q685.999 1480.82 689.61 1480.82 Q693.244 1480.82 695.05 1477.28 Q696.879 1473.71 696.879 1466.61 Q696.879 1459.48 695.05 1455.94 Q693.244 1452.37 689.61 1452.37 M689.61 1448.67 Q695.42 1448.67 698.476 1453.27 Q701.554 1457.86 701.554 1466.61 Q701.554 1475.33 698.476 1479.94 Q695.42 1484.52 689.61 1484.52 Q683.8 1484.52 680.721 1479.94 Q677.666 1475.33 677.666 1466.61 Q677.666 1457.86 680.721 1453.27 Q683.8 1448.67 689.61 1448.67 Z\" fill=\"#000000\" fill-rule=\"evenodd\" fill-opacity=\"1\" /><path clip-path=\"url(#clip360)\" d=\"M 0 0 M706.67 1449.29 L725.027 1449.29 L725.027 1453.23 L710.953 1453.23 L710.953 1461.7 Q711.971 1461.35 712.99 1461.19 Q714.008 1461 715.027 1461 Q720.814 1461 724.193 1464.18 Q727.573 1467.35 727.573 1472.76 Q727.573 1478.34 724.101 1481.44 Q720.628 1484.52 714.309 1484.52 Q712.133 1484.52 709.865 1484.15 Q707.619 1483.78 705.212 1483.04 L705.212 1478.34 Q707.295 1479.48 709.517 1480.03 Q711.74 1480.59 714.216 1480.59 Q718.221 1480.59 720.559 1478.48 Q722.897 1476.38 722.897 1472.76 Q722.897 1469.15 720.559 1467.05 Q718.221 1464.94 714.216 1464.94 Q712.341 1464.94 710.466 1465.36 Q708.615 1465.77 706.67 1466.65 L706.67 1449.29 Z\" fill=\"#000000\" fill-rule=\"evenodd\" fill-opacity=\"1\" /><path clip-path=\"url(#clip360)\" d=\"M 0 0 M822.005 1479.92 L838.324 1479.92 L838.324 1483.85 L816.38 1483.85 L816.38 1479.92 Q819.042 1477.16 823.625 1472.53 Q828.232 1467.88 829.412 1466.54 Q831.657 1464.01 832.537 1462.28 Q833.44 1460.52 833.44 1458.83 Q833.44 1456.07 831.495 1454.34 Q829.574 1452.6 826.472 1452.6 Q824.273 1452.6 821.82 1453.37 Q819.389 1454.13 816.611 1455.68 L816.611 1450.96 Q819.435 1449.82 821.889 1449.25 Q824.343 1448.67 826.38 1448.67 Q831.75 1448.67 834.944 1451.35 Q838.139 1454.04 838.139 1458.53 Q838.139 1460.66 837.329 1462.58 Q836.542 1464.48 834.435 1467.07 Q833.857 1467.74 830.755 1470.96 Q827.653 1474.15 822.005 1479.92 Z\" fill=\"#000000\" fill-rule=\"evenodd\" fill-opacity=\"1\" /><path clip-path=\"url(#clip360)\" d=\"M 0 0 M847.421 1479.92 L863.741 1479.92 L863.741 1483.85 L841.796 1483.85 L841.796 1479.92 Q844.458 1477.16 849.042 1472.53 Q853.648 1467.88 854.829 1466.54 Q857.074 1464.01 857.954 1462.28 Q858.856 1460.52 858.856 1458.83 Q858.856 1456.07 856.912 1454.34 Q854.991 1452.6 851.889 1452.6 Q849.69 1452.6 847.236 1453.37 Q844.806 1454.13 842.028 1455.68 L842.028 1450.96 Q844.852 1449.82 847.306 1449.25 Q849.759 1448.67 851.796 1448.67 Q857.167 1448.67 860.361 1451.35 Q863.555 1454.04 863.555 1458.53 Q863.555 1460.66 862.745 1462.58 Q861.958 1464.48 859.852 1467.07 Q859.273 1467.74 856.171 1470.96 Q853.069 1474.15 847.421 1479.92 Z\" fill=\"#000000\" fill-rule=\"evenodd\" fill-opacity=\"1\" /><path clip-path=\"url(#clip360)\" d=\"M 0 0 M866.055 1468.97 L878.532 1468.97 L878.532 1472.76 L866.055 1472.76 L866.055 1468.97 Z\" fill=\"#000000\" fill-rule=\"evenodd\" fill-opacity=\"1\" /><path clip-path=\"url(#clip360)\" d=\"M 0 0 M893.602 1452.37 Q889.99 1452.37 888.162 1455.94 Q886.356 1459.48 886.356 1466.61 Q886.356 1473.71 888.162 1477.28 Q889.99 1480.82 893.602 1480.82 Q897.236 1480.82 899.041 1477.28 Q900.87 1473.71 900.87 1466.61 Q900.87 1459.48 899.041 1455.94 Q897.236 1452.37 893.602 1452.37 M893.602 1448.67 Q899.412 1448.67 902.467 1453.27 Q905.546 1457.86 905.546 1466.61 Q905.546 1475.33 902.467 1479.94 Q899.412 1484.52 893.602 1484.52 Q887.791 1484.52 884.713 1479.94 Q881.657 1475.33 881.657 1466.61 Q881.657 1457.86 884.713 1453.27 Q887.791 1448.67 893.602 1448.67 Z\" fill=\"#000000\" fill-rule=\"evenodd\" fill-opacity=\"1\" /><path clip-path=\"url(#clip360)\" d=\"M 0 0 M921.194 1464.71 Q918.046 1464.71 916.194 1466.86 Q914.365 1469.01 914.365 1472.76 Q914.365 1476.49 916.194 1478.67 Q918.046 1480.82 921.194 1480.82 Q924.342 1480.82 926.171 1478.67 Q928.023 1476.49 928.023 1472.76 Q928.023 1469.01 926.171 1466.86 Q924.342 1464.71 921.194 1464.71 M930.476 1450.06 L930.476 1454.31 Q928.717 1453.48 926.912 1453.04 Q925.129 1452.6 923.37 1452.6 Q918.74 1452.6 916.287 1455.73 Q913.856 1458.85 913.509 1465.17 Q914.875 1463.16 916.935 1462.09 Q918.995 1461 921.472 1461 Q926.68 1461 929.689 1464.18 Q932.722 1467.32 932.722 1472.76 Q932.722 1478.09 929.574 1481.31 Q926.425 1484.52 921.194 1484.52 Q915.199 1484.52 912.027 1479.94 Q908.856 1475.33 908.856 1466.61 Q908.856 1458.41 912.745 1453.55 Q916.634 1448.67 923.185 1448.67 Q924.944 1448.67 926.726 1449.01 Q928.532 1449.36 930.476 1450.06 Z\" fill=\"#000000\" fill-rule=\"evenodd\" fill-opacity=\"1\" /><path clip-path=\"url(#clip360)\" d=\"M 0 0 M1025.97 1479.92 L1042.29 1479.92 L1042.29 1483.85 L1020.35 1483.85 L1020.35 1479.92 Q1023.01 1477.16 1027.59 1472.53 Q1032.2 1467.88 1033.38 1466.54 Q1035.63 1464.01 1036.51 1462.28 Q1037.41 1460.52 1037.41 1458.83 Q1037.41 1456.07 1035.46 1454.34 Q1033.54 1452.6 1030.44 1452.6 Q1028.24 1452.6 1025.79 1453.37 Q1023.36 1454.13 1020.58 1455.68 L1020.58 1450.96 Q1023.4 1449.82 1025.86 1449.25 Q1028.31 1448.67 1030.35 1448.67 Q1035.72 1448.67 1038.91 1451.35 Q1042.11 1454.04 1042.11 1458.53 Q1042.11 1460.66 1041.3 1462.58 Q1040.51 1464.48 1038.4 1467.07 Q1037.82 1467.74 1034.72 1470.96 Q1031.62 1474.15 1025.97 1479.92 Z\" fill=\"#000000\" fill-rule=\"evenodd\" fill-opacity=\"1\" /><path clip-path=\"url(#clip360)\" d=\"M 0 0 M1057.36 1467.44 Q1054.03 1467.44 1052.11 1469.22 Q1050.21 1471 1050.21 1474.13 Q1050.21 1477.25 1052.11 1479.04 Q1054.03 1480.82 1057.36 1480.82 Q1060.7 1480.82 1062.62 1479.04 Q1064.54 1477.23 1064.54 1474.13 Q1064.54 1471 1062.62 1469.22 Q1060.72 1467.44 1057.36 1467.44 M1052.69 1465.45 Q1049.68 1464.71 1047.99 1462.65 Q1046.32 1460.59 1046.32 1457.63 Q1046.32 1453.48 1049.26 1451.07 Q1052.22 1448.67 1057.36 1448.67 Q1062.52 1448.67 1065.46 1451.07 Q1068.4 1453.48 1068.4 1457.63 Q1068.4 1460.59 1066.71 1462.65 Q1065.05 1464.71 1062.06 1465.45 Q1065.44 1466.24 1067.32 1468.53 Q1069.21 1470.82 1069.21 1474.13 Q1069.21 1479.15 1066.13 1481.84 Q1063.08 1484.52 1057.36 1484.52 Q1051.64 1484.52 1048.57 1481.84 Q1045.51 1479.15 1045.51 1474.13 Q1045.51 1470.82 1047.41 1468.53 Q1049.31 1466.24 1052.69 1465.45 M1050.97 1458.06 Q1050.97 1460.75 1052.64 1462.25 Q1054.33 1463.76 1057.36 1463.76 Q1060.37 1463.76 1062.06 1462.25 Q1063.77 1460.75 1063.77 1458.06 Q1063.77 1455.38 1062.06 1453.88 Q1060.37 1452.37 1057.36 1452.37 Q1054.33 1452.37 1052.64 1453.88 Q1050.97 1455.38 1050.97 1458.06 Z\" fill=\"#000000\" fill-rule=\"evenodd\" fill-opacity=\"1\" /><path clip-path=\"url(#clip360)\" d=\"M 0 0 M1071.53 1468.97 L1084.01 1468.97 L1084.01 1472.76 L1071.53 1472.76 L1071.53 1468.97 Z\" fill=\"#000000\" fill-rule=\"evenodd\" fill-opacity=\"1\" /><path clip-path=\"url(#clip360)\" d=\"M 0 0 M1099.07 1452.37 Q1095.46 1452.37 1093.63 1455.94 Q1091.83 1459.48 1091.83 1466.61 Q1091.83 1473.71 1093.63 1477.28 Q1095.46 1480.82 1099.07 1480.82 Q1102.71 1480.82 1104.51 1477.28 Q1106.34 1473.71 1106.34 1466.61 Q1106.34 1459.48 1104.51 1455.94 Q1102.71 1452.37 1099.07 1452.37 M1099.07 1448.67 Q1104.88 1448.67 1107.94 1453.27 Q1111.02 1457.86 1111.02 1466.61 Q1111.02 1475.33 1107.94 1479.94 Q1104.88 1484.52 1099.07 1484.52 Q1093.26 1484.52 1090.19 1479.94 Q1087.13 1475.33 1087.13 1466.61 Q1087.13 1457.86 1090.19 1453.27 Q1093.26 1448.67 1099.07 1448.67 Z\" fill=\"#000000\" fill-rule=\"evenodd\" fill-opacity=\"1\" /><path clip-path=\"url(#clip360)\" d=\"M 0 0 M1114.91 1449.29 L1137.13 1449.29 L1137.13 1451.28 L1124.58 1483.85 L1119.7 1483.85 L1131.5 1453.23 L1114.91 1453.23 L1114.91 1449.29 Z\" fill=\"#000000\" fill-rule=\"evenodd\" fill-opacity=\"1\" /><path clip-path=\"url(#clip360)\" d=\"M 0 0 M1243.26 1479.92 L1259.58 1479.92 L1259.58 1483.85 L1237.64 1483.85 L1237.64 1479.92 Q1240.3 1477.16 1244.88 1472.53 Q1249.49 1467.88 1250.67 1466.54 Q1252.92 1464.01 1253.8 1462.28 Q1254.7 1460.52 1254.7 1458.83 Q1254.7 1456.07 1252.75 1454.34 Q1250.83 1452.6 1247.73 1452.6 Q1245.53 1452.6 1243.08 1453.37 Q1240.65 1454.13 1237.87 1455.68 L1237.87 1450.96 Q1240.69 1449.82 1243.15 1449.25 Q1245.6 1448.67 1247.64 1448.67 Q1253.01 1448.67 1256.2 1451.35 Q1259.4 1454.04 1259.4 1458.53 Q1259.4 1460.66 1258.59 1462.58 Q1257.8 1464.48 1255.69 1467.07 Q1255.11 1467.74 1252.01 1470.96 Q1248.91 1474.15 1243.26 1479.92 Z\" fill=\"#000000\" fill-rule=\"evenodd\" fill-opacity=\"1\" /><path clip-path=\"url(#clip360)\" d=\"M 0 0 M1261.9 1468.97 L1274.37 1468.97 L1274.37 1472.76 L1261.9 1472.76 L1261.9 1468.97 Z\" fill=\"#000000\" fill-rule=\"evenodd\" fill-opacity=\"1\" /><path clip-path=\"url(#clip360)\" d=\"M 0 0 M1289.44 1452.37 Q1285.83 1452.37 1284 1455.94 Q1282.2 1459.48 1282.2 1466.61 Q1282.2 1473.71 1284 1477.28 Q1285.83 1480.82 1289.44 1480.82 Q1293.08 1480.82 1294.88 1477.28 Q1296.71 1473.71 1296.71 1466.61 Q1296.71 1459.48 1294.88 1455.94 Q1293.08 1452.37 1289.44 1452.37 M1289.44 1448.67 Q1295.25 1448.67 1298.31 1453.27 Q1301.39 1457.86 1301.39 1466.61 Q1301.39 1475.33 1298.31 1479.94 Q1295.25 1484.52 1289.44 1484.52 Q1283.63 1484.52 1280.55 1479.94 Q1277.5 1475.33 1277.5 1466.61 Q1277.5 1457.86 1280.55 1453.27 Q1283.63 1448.67 1289.44 1448.67 Z\" fill=\"#000000\" fill-rule=\"evenodd\" fill-opacity=\"1\" /><path clip-path=\"url(#clip360)\" d=\"M 0 0 M1306.6 1483.13 L1306.6 1478.88 Q1308.36 1479.71 1310.16 1480.15 Q1311.97 1480.59 1313.7 1480.59 Q1318.33 1480.59 1320.76 1477.49 Q1323.22 1474.36 1323.56 1468.02 Q1322.22 1470.01 1320.16 1471.07 Q1318.1 1472.14 1315.6 1472.14 Q1310.42 1472.14 1307.38 1469.01 Q1304.37 1465.87 1304.37 1460.43 Q1304.37 1455.1 1307.52 1451.88 Q1310.67 1448.67 1315.9 1448.67 Q1321.9 1448.67 1325.05 1453.27 Q1328.22 1457.86 1328.22 1466.61 Q1328.22 1474.78 1324.33 1479.66 Q1320.46 1484.52 1313.91 1484.52 Q1312.15 1484.52 1310.35 1484.18 Q1308.54 1483.83 1306.6 1483.13 M1315.9 1468.48 Q1319.05 1468.48 1320.88 1466.33 Q1322.73 1464.18 1322.73 1460.43 Q1322.73 1456.7 1320.88 1454.55 Q1319.05 1452.37 1315.9 1452.37 Q1312.75 1452.37 1310.9 1454.55 Q1309.07 1456.7 1309.07 1460.43 Q1309.07 1464.18 1310.9 1466.33 Q1312.75 1468.48 1315.9 1468.48 Z\" fill=\"#000000\" fill-rule=\"evenodd\" fill-opacity=\"1\" /><path clip-path=\"url(#clip360)\" d=\"M 0 0 M1453.32 1467.44 Q1449.99 1467.44 1448.06 1469.22 Q1446.17 1471 1446.17 1474.13 Q1446.17 1477.25 1448.06 1479.04 Q1449.99 1480.82 1453.32 1480.82 Q1456.65 1480.82 1458.57 1479.04 Q1460.5 1477.23 1460.5 1474.13 Q1460.5 1471 1458.57 1469.22 Q1456.68 1467.44 1453.32 1467.44 M1448.64 1465.45 Q1445.63 1464.71 1443.94 1462.65 Q1442.28 1460.59 1442.28 1457.63 Q1442.28 1453.48 1445.22 1451.07 Q1448.18 1448.67 1453.32 1448.67 Q1458.48 1448.67 1461.42 1451.07 Q1464.36 1453.48 1464.36 1457.63 Q1464.36 1460.59 1462.67 1462.65 Q1461 1464.71 1458.02 1465.45 Q1461.4 1466.24 1463.27 1468.53 Q1465.17 1470.82 1465.17 1474.13 Q1465.17 1479.15 1462.09 1481.84 Q1459.04 1484.52 1453.32 1484.52 Q1447.6 1484.52 1444.52 1481.84 Q1441.47 1479.15 1441.47 1474.13 Q1441.47 1470.82 1443.37 1468.53 Q1445.26 1466.24 1448.64 1465.45 M1446.93 1458.06 Q1446.93 1460.75 1448.6 1462.25 Q1450.29 1463.76 1453.32 1463.76 Q1456.33 1463.76 1458.02 1462.25 Q1459.73 1460.75 1459.73 1458.06 Q1459.73 1455.38 1458.02 1453.88 Q1456.33 1452.37 1453.32 1452.37 Q1450.29 1452.37 1448.6 1453.88 Q1446.93 1455.38 1446.93 1458.06 Z\" fill=\"#000000\" fill-rule=\"evenodd\" fill-opacity=\"1\" /><path clip-path=\"url(#clip360)\" d=\"M 0 0 M1467.49 1468.97 L1479.96 1468.97 L1479.96 1472.76 L1467.49 1472.76 L1467.49 1468.97 Z\" fill=\"#000000\" fill-rule=\"evenodd\" fill-opacity=\"1\" /><path clip-path=\"url(#clip360)\" d=\"M 0 0 M1485.84 1479.92 L1493.48 1479.92 L1493.48 1453.55 L1485.17 1455.22 L1485.17 1450.96 L1493.43 1449.29 L1498.11 1449.29 L1498.11 1479.92 L1505.75 1479.92 L1505.75 1483.85 L1485.84 1483.85 L1485.84 1479.92 Z\" fill=\"#000000\" fill-rule=\"evenodd\" fill-opacity=\"1\" /><path clip-path=\"url(#clip360)\" d=\"M 0 0 M1520.82 1452.37 Q1517.21 1452.37 1515.38 1455.94 Q1513.57 1459.48 1513.57 1466.61 Q1513.57 1473.71 1515.38 1477.28 Q1517.21 1480.82 1520.82 1480.82 Q1524.45 1480.82 1526.26 1477.28 Q1528.09 1473.71 1528.09 1466.61 Q1528.09 1459.48 1526.26 1455.94 Q1524.45 1452.37 1520.82 1452.37 M1520.82 1448.67 Q1526.63 1448.67 1529.68 1453.27 Q1532.76 1457.86 1532.76 1466.61 Q1532.76 1475.33 1529.68 1479.94 Q1526.63 1484.52 1520.82 1484.52 Q1515.01 1484.52 1511.93 1479.94 Q1508.87 1475.33 1508.87 1466.61 Q1508.87 1457.86 1511.93 1453.27 Q1515.01 1448.67 1520.82 1448.67 Z\" fill=\"#000000\" fill-rule=\"evenodd\" fill-opacity=\"1\" /><path clip-path=\"url(#clip360)\" d=\"M 0 0 M1635.32 1479.92 L1642.96 1479.92 L1642.96 1453.55 L1634.65 1455.22 L1634.65 1450.96 L1642.91 1449.29 L1647.59 1449.29 L1647.59 1479.92 L1655.23 1479.92 L1655.23 1483.85 L1635.32 1483.85 L1635.32 1479.92 Z\" fill=\"#000000\" fill-rule=\"evenodd\" fill-opacity=\"1\" /><path clip-path=\"url(#clip360)\" d=\"M 0 0 M1674.46 1465.22 Q1677.82 1465.94 1679.7 1468.2 Q1681.59 1470.47 1681.59 1473.81 Q1681.59 1478.92 1678.07 1481.72 Q1674.56 1484.52 1668.07 1484.52 Q1665.9 1484.52 1663.58 1484.08 Q1661.29 1483.67 1658.84 1482.81 L1658.84 1478.3 Q1660.78 1479.43 1663.1 1480.01 Q1665.41 1480.59 1667.94 1480.59 Q1672.33 1480.59 1674.63 1478.85 Q1676.94 1477.12 1676.94 1473.81 Q1676.94 1470.75 1674.79 1469.04 Q1672.66 1467.3 1668.84 1467.3 L1664.81 1467.3 L1664.81 1463.46 L1669.02 1463.46 Q1672.47 1463.46 1674.3 1462.09 Q1676.13 1460.7 1676.13 1458.11 Q1676.13 1455.45 1674.23 1454.04 Q1672.36 1452.6 1668.84 1452.6 Q1666.92 1452.6 1664.72 1453.02 Q1662.52 1453.44 1659.88 1454.31 L1659.88 1450.15 Q1662.54 1449.41 1664.86 1449.04 Q1667.2 1448.67 1669.26 1448.67 Q1674.58 1448.67 1677.68 1451.1 Q1680.78 1453.5 1680.78 1457.63 Q1680.78 1460.5 1679.14 1462.49 Q1677.5 1464.45 1674.46 1465.22 Z\" fill=\"#000000\" fill-rule=\"evenodd\" fill-opacity=\"1\" /><path clip-path=\"url(#clip360)\" d=\"M 0 0 M1683.91 1468.97 L1696.38 1468.97 L1696.38 1472.76 L1683.91 1472.76 L1683.91 1468.97 Z\" fill=\"#000000\" fill-rule=\"evenodd\" fill-opacity=\"1\" /><path clip-path=\"url(#clip360)\" d=\"M 0 0 M1702.26 1479.92 L1709.9 1479.92 L1709.9 1453.55 L1701.59 1455.22 L1701.59 1450.96 L1709.86 1449.29 L1714.53 1449.29 L1714.53 1479.92 L1722.17 1479.92 L1722.17 1483.85 L1702.26 1483.85 L1702.26 1479.92 Z\" fill=\"#000000\" fill-rule=\"evenodd\" fill-opacity=\"1\" /><path clip-path=\"url(#clip360)\" d=\"M 0 0 M1728.05 1479.92 L1735.69 1479.92 L1735.69 1453.55 L1727.38 1455.22 L1727.38 1450.96 L1735.64 1449.29 L1740.32 1449.29 L1740.32 1479.92 L1747.96 1479.92 L1747.96 1483.85 L1728.05 1483.85 L1728.05 1479.92 Z\" fill=\"#000000\" fill-rule=\"evenodd\" fill-opacity=\"1\" /><path clip-path=\"url(#clip360)\" d=\"M 0 0 M1844.25 1479.92 L1860.57 1479.92 L1860.57 1483.85 L1838.63 1483.85 L1838.63 1479.92 Q1841.29 1477.16 1845.87 1472.53 Q1850.48 1467.88 1851.66 1466.54 Q1853.91 1464.01 1854.79 1462.28 Q1855.69 1460.52 1855.69 1458.83 Q1855.69 1456.07 1853.74 1454.34 Q1851.82 1452.6 1848.72 1452.6 Q1846.52 1452.6 1844.07 1453.37 Q1841.64 1454.13 1838.86 1455.68 L1838.86 1450.96 Q1841.68 1449.82 1844.14 1449.25 Q1846.59 1448.67 1848.63 1448.67 Q1854 1448.67 1857.19 1451.35 Q1860.39 1454.04 1860.39 1458.53 Q1860.39 1460.66 1859.58 1462.58 Q1858.79 1464.48 1856.68 1467.07 Q1856.11 1467.74 1853 1470.96 Q1849.9 1474.15 1844.25 1479.92 Z\" fill=\"#000000\" fill-rule=\"evenodd\" fill-opacity=\"1\" /><path clip-path=\"url(#clip360)\" d=\"M 0 0 M1866.45 1479.92 L1874.09 1479.92 L1874.09 1453.55 L1865.78 1455.22 L1865.78 1450.96 L1874.05 1449.29 L1878.72 1449.29 L1878.72 1479.92 L1886.36 1479.92 L1886.36 1483.85 L1866.45 1483.85 L1866.45 1479.92 Z\" fill=\"#000000\" fill-rule=\"evenodd\" fill-opacity=\"1\" /><path clip-path=\"url(#clip360)\" d=\"M 0 0 M1888.67 1468.97 L1901.15 1468.97 L1901.15 1472.76 L1888.67 1472.76 L1888.67 1468.97 Z\" fill=\"#000000\" fill-rule=\"evenodd\" fill-opacity=\"1\" /><path clip-path=\"url(#clip360)\" d=\"M 0 0 M1907.03 1479.92 L1914.67 1479.92 L1914.67 1453.55 L1906.36 1455.22 L1906.36 1450.96 L1914.62 1449.29 L1919.3 1449.29 L1919.3 1479.92 L1926.94 1479.92 L1926.94 1483.85 L1907.03 1483.85 L1907.03 1479.92 Z\" fill=\"#000000\" fill-rule=\"evenodd\" fill-opacity=\"1\" /><path clip-path=\"url(#clip360)\" d=\"M 0 0 M1936.04 1479.92 L1952.36 1479.92 L1952.36 1483.85 L1930.41 1483.85 L1930.41 1479.92 Q1933.07 1477.16 1937.66 1472.53 Q1942.26 1467.88 1943.44 1466.54 Q1945.69 1464.01 1946.57 1462.28 Q1947.47 1460.52 1947.47 1458.83 Q1947.47 1456.07 1945.53 1454.34 Q1943.61 1452.6 1940.5 1452.6 Q1938.3 1452.6 1935.85 1453.37 Q1933.42 1454.13 1930.64 1455.68 L1930.64 1450.96 Q1933.47 1449.82 1935.92 1449.25 Q1938.37 1448.67 1940.41 1448.67 Q1945.78 1448.67 1948.98 1451.35 Q1952.17 1454.04 1952.17 1458.53 Q1952.17 1460.66 1951.36 1462.58 Q1950.57 1464.48 1948.47 1467.07 Q1947.89 1467.74 1944.79 1470.96 Q1941.68 1474.15 1936.04 1479.92 Z\" fill=\"#000000\" fill-rule=\"evenodd\" fill-opacity=\"1\" /><path clip-path=\"url(#clip360)\" d=\"M 0 0 M2047.08 1479.92 L2063.4 1479.92 L2063.4 1483.85 L2041.45 1483.85 L2041.45 1479.92 Q2044.11 1477.16 2048.7 1472.53 Q2053.3 1467.88 2054.48 1466.54 Q2056.73 1464.01 2057.61 1462.28 Q2058.51 1460.52 2058.51 1458.83 Q2058.51 1456.07 2056.57 1454.34 Q2054.65 1452.6 2051.54 1452.6 Q2049.34 1452.6 2046.89 1453.37 Q2044.46 1454.13 2041.68 1455.68 L2041.68 1450.96 Q2044.51 1449.82 2046.96 1449.25 Q2049.41 1448.67 2051.45 1448.67 Q2056.82 1448.67 2060.02 1451.35 Q2063.21 1454.04 2063.21 1458.53 Q2063.21 1460.66 2062.4 1462.58 Q2061.61 1464.48 2059.51 1467.07 Q2058.93 1467.74 2055.83 1470.96 Q2052.72 1474.15 2047.08 1479.92 Z\" fill=\"#000000\" fill-rule=\"evenodd\" fill-opacity=\"1\" /><path clip-path=\"url(#clip360)\" d=\"M 0 0 M2078.47 1467.44 Q2075.13 1467.44 2073.21 1469.22 Q2071.31 1471 2071.31 1474.13 Q2071.31 1477.25 2073.21 1479.04 Q2075.13 1480.82 2078.47 1480.82 Q2081.8 1480.82 2083.72 1479.04 Q2085.64 1477.23 2085.64 1474.13 Q2085.64 1471 2083.72 1469.22 Q2081.82 1467.44 2078.47 1467.44 M2073.79 1465.45 Q2070.78 1464.71 2069.09 1462.65 Q2067.42 1460.59 2067.42 1457.63 Q2067.42 1453.48 2070.36 1451.07 Q2073.33 1448.67 2078.47 1448.67 Q2083.63 1448.67 2086.57 1451.07 Q2089.51 1453.48 2089.51 1457.63 Q2089.51 1460.59 2087.82 1462.65 Q2086.15 1464.71 2083.16 1465.45 Q2086.54 1466.24 2088.42 1468.53 Q2090.32 1470.82 2090.32 1474.13 Q2090.32 1479.15 2087.24 1481.84 Q2084.18 1484.52 2078.47 1484.52 Q2072.75 1484.52 2069.67 1481.84 Q2066.61 1479.15 2066.61 1474.13 Q2066.61 1470.82 2068.51 1468.53 Q2070.41 1466.24 2073.79 1465.45 M2072.08 1458.06 Q2072.08 1460.75 2073.74 1462.25 Q2075.43 1463.76 2078.47 1463.76 Q2081.47 1463.76 2083.16 1462.25 Q2084.88 1460.75 2084.88 1458.06 Q2084.88 1455.38 2083.16 1453.88 Q2081.47 1452.37 2078.47 1452.37 Q2075.43 1452.37 2073.74 1453.88 Q2072.08 1455.38 2072.08 1458.06 Z\" fill=\"#000000\" fill-rule=\"evenodd\" fill-opacity=\"1\" /><path clip-path=\"url(#clip360)\" d=\"M 0 0 M2092.63 1468.97 L2105.11 1468.97 L2105.11 1472.76 L2092.63 1472.76 L2092.63 1468.97 Z\" fill=\"#000000\" fill-rule=\"evenodd\" fill-opacity=\"1\" /><path clip-path=\"url(#clip360)\" d=\"M 0 0 M2120.18 1452.37 Q2116.57 1452.37 2114.74 1455.94 Q2112.93 1459.48 2112.93 1466.61 Q2112.93 1473.71 2114.74 1477.28 Q2116.57 1480.82 2120.18 1480.82 Q2123.81 1480.82 2125.62 1477.28 Q2127.45 1473.71 2127.45 1466.61 Q2127.45 1459.48 2125.62 1455.94 Q2123.81 1452.37 2120.18 1452.37 M2120.18 1448.67 Q2125.99 1448.67 2129.04 1453.27 Q2132.12 1457.86 2132.12 1466.61 Q2132.12 1475.33 2129.04 1479.94 Q2125.99 1484.52 2120.18 1484.52 Q2114.37 1484.52 2111.29 1479.94 Q2108.23 1475.33 2108.23 1466.61 Q2108.23 1457.86 2111.29 1453.27 Q2114.37 1448.67 2120.18 1448.67 Z\" fill=\"#000000\" fill-rule=\"evenodd\" fill-opacity=\"1\" /><path clip-path=\"url(#clip360)\" d=\"M 0 0 M2138 1479.92 L2145.64 1479.92 L2145.64 1453.55 L2137.33 1455.22 L2137.33 1450.96 L2145.59 1449.29 L2150.27 1449.29 L2150.27 1479.92 L2157.91 1479.92 L2157.91 1483.85 L2138 1483.85 L2138 1479.92 Z\" fill=\"#000000\" fill-rule=\"evenodd\" fill-opacity=\"1\" /><path clip-path=\"url(#clip360)\" d=\"M 0 0 M1245.01 1537.81 L1245.01 1518.52 L1250.87 1518.52 L1250.87 1568.04 L1245.01 1568.04 L1245.01 1562.7 Q1243.17 1565.88 1240.33 1567.44 Q1237.53 1568.97 1233.59 1568.97 Q1227.13 1568.97 1223.05 1563.81 Q1219.01 1558.65 1219.01 1550.25 Q1219.01 1541.85 1223.05 1536.69 Q1227.13 1531.54 1233.59 1531.54 Q1237.53 1531.54 1240.33 1533.1 Q1243.17 1534.62 1245.01 1537.81 M1225.06 1550.25 Q1225.06 1556.71 1227.7 1560.4 Q1230.37 1564.07 1235.02 1564.07 Q1239.67 1564.07 1242.34 1560.4 Q1245.01 1556.71 1245.01 1550.25 Q1245.01 1543.79 1242.34 1540.13 Q1239.67 1536.44 1235.02 1536.44 Q1230.37 1536.44 1227.7 1540.13 Q1225.06 1543.79 1225.06 1550.25 Z\" fill=\"#000000\" fill-rule=\"evenodd\" fill-opacity=\"1\" /><path clip-path=\"url(#clip360)\" d=\"M 0 0 M1273.21 1550.12 Q1266.12 1550.12 1263.38 1551.75 Q1260.64 1553.37 1260.64 1557.29 Q1260.64 1560.4 1262.68 1562.25 Q1264.75 1564.07 1268.28 1564.07 Q1273.15 1564.07 1276.08 1560.63 Q1279.04 1557.16 1279.04 1551.43 L1279.04 1550.12 L1273.21 1550.12 M1284.89 1547.71 L1284.89 1568.04 L1279.04 1568.04 L1279.04 1562.63 Q1277.03 1565.88 1274.04 1567.44 Q1271.05 1568.97 1266.72 1568.97 Q1261.25 1568.97 1258 1565.91 Q1254.78 1562.82 1254.78 1557.67 Q1254.78 1551.65 1258.8 1548.6 Q1262.84 1545.54 1270.83 1545.54 L1279.04 1545.54 L1279.04 1544.97 Q1279.04 1540.93 1276.36 1538.73 Q1273.72 1536.5 1268.92 1536.5 Q1265.86 1536.5 1262.96 1537.23 Q1260.07 1537.97 1257.39 1539.43 L1257.39 1534.02 Q1260.61 1532.78 1263.63 1532.17 Q1266.66 1531.54 1269.52 1531.54 Q1277.26 1531.54 1281.08 1535.55 Q1284.89 1539.56 1284.89 1547.71 Z\" fill=\"#000000\" fill-rule=\"evenodd\" fill-opacity=\"1\" /><path clip-path=\"url(#clip360)\" d=\"M 0 0 M1296.83 1522.27 L1296.83 1532.4 L1308.89 1532.4 L1308.89 1536.95 L1296.83 1536.95 L1296.83 1556.3 Q1296.83 1560.66 1298.01 1561.9 Q1299.22 1563.14 1302.88 1563.14 L1308.89 1563.14 L1308.89 1568.04 L1302.88 1568.04 Q1296.1 1568.04 1293.52 1565.53 Q1290.94 1562.98 1290.94 1556.3 L1290.94 1536.95 L1286.65 1536.95 L1286.65 1532.4 L1290.94 1532.4 L1290.94 1522.27 L1296.83 1522.27 Z\" fill=\"#000000\" fill-rule=\"evenodd\" fill-opacity=\"1\" /><path clip-path=\"url(#clip360)\" d=\"M 0 0 M1331.24 1550.12 Q1324.14 1550.12 1321.4 1551.75 Q1318.66 1553.37 1318.66 1557.29 Q1318.66 1560.4 1320.7 1562.25 Q1322.77 1564.07 1326.3 1564.07 Q1331.17 1564.07 1334.1 1560.63 Q1337.06 1557.16 1337.06 1551.43 L1337.06 1550.12 L1331.24 1550.12 M1342.92 1547.71 L1342.92 1568.04 L1337.06 1568.04 L1337.06 1562.63 Q1335.06 1565.88 1332.06 1567.44 Q1329.07 1568.97 1324.74 1568.97 Q1319.27 1568.97 1316.02 1565.91 Q1312.81 1562.82 1312.81 1557.67 Q1312.81 1551.65 1316.82 1548.6 Q1320.86 1545.54 1328.85 1545.54 L1337.06 1545.54 L1337.06 1544.97 Q1337.06 1540.93 1334.39 1538.73 Q1331.75 1536.5 1326.94 1536.5 Q1323.88 1536.5 1320.99 1537.23 Q1318.09 1537.97 1315.42 1539.43 L1315.42 1534.02 Q1318.63 1532.78 1321.66 1532.17 Q1324.68 1531.54 1327.54 1531.54 Q1335.28 1531.54 1339.1 1535.55 Q1342.92 1539.56 1342.92 1547.71 Z\" fill=\"#000000\" fill-rule=\"evenodd\" fill-opacity=\"1\" /><polyline clip-path=\"url(#clip362)\" style=\"stroke:#000000; stroke-width:2; stroke-opacity:0.1; fill:none\" points=\"\n",
       "  209.172,1229.3 2352.76,1229.3 \n",
       "  \"/>\n",
       "<polyline clip-path=\"url(#clip362)\" style=\"stroke:#000000; stroke-width:2; stroke-opacity:0.1; fill:none\" points=\"\n",
       "  209.172,908.43 2352.76,908.43 \n",
       "  \"/>\n",
       "<polyline clip-path=\"url(#clip362)\" style=\"stroke:#000000; stroke-width:2; stroke-opacity:0.1; fill:none\" points=\"\n",
       "  209.172,587.555 2352.76,587.555 \n",
       "  \"/>\n",
       "<polyline clip-path=\"url(#clip362)\" style=\"stroke:#000000; stroke-width:2; stroke-opacity:0.1; fill:none\" points=\"\n",
       "  209.172,266.681 2352.76,266.681 \n",
       "  \"/>\n",
       "<polyline clip-path=\"url(#clip360)\" style=\"stroke:#000000; stroke-width:4; stroke-opacity:1; fill:none\" points=\"\n",
       "  209.172,1423.18 209.172,106.192 \n",
       "  \"/>\n",
       "<polyline clip-path=\"url(#clip360)\" style=\"stroke:#000000; stroke-width:4; stroke-opacity:1; fill:none\" points=\"\n",
       "  209.172,1229.3 234.895,1229.3 \n",
       "  \"/>\n",
       "<polyline clip-path=\"url(#clip360)\" style=\"stroke:#000000; stroke-width:4; stroke-opacity:1; fill:none\" points=\"\n",
       "  209.172,908.43 234.895,908.43 \n",
       "  \"/>\n",
       "<polyline clip-path=\"url(#clip360)\" style=\"stroke:#000000; stroke-width:4; stroke-opacity:1; fill:none\" points=\"\n",
       "  209.172,587.555 234.895,587.555 \n",
       "  \"/>\n",
       "<polyline clip-path=\"url(#clip360)\" style=\"stroke:#000000; stroke-width:4; stroke-opacity:1; fill:none\" points=\"\n",
       "  209.172,266.681 234.895,266.681 \n",
       "  \"/>\n",
       "<path clip-path=\"url(#clip360)\" d=\"M 0 0 M115.811 1242.65 L123.45 1242.65 L123.45 1216.28 L115.14 1217.95 L115.14 1213.69 L123.404 1212.02 L128.08 1212.02 L128.08 1242.65 L135.718 1242.65 L135.718 1246.58 L115.811 1246.58 L115.811 1242.65 Z\" fill=\"#000000\" fill-rule=\"evenodd\" fill-opacity=\"1\" /><path clip-path=\"url(#clip360)\" d=\"M 0 0 M140.788 1240.7 L145.672 1240.7 L145.672 1246.58 L140.788 1246.58 L140.788 1240.7 Z\" fill=\"#000000\" fill-rule=\"evenodd\" fill-opacity=\"1\" /><path clip-path=\"url(#clip360)\" d=\"M 0 0 M163.589 1216.1 L151.783 1234.55 L163.589 1234.55 L163.589 1216.1 M162.362 1212.02 L168.241 1212.02 L168.241 1234.55 L173.172 1234.55 L173.172 1238.44 L168.241 1238.44 L168.241 1246.58 L163.589 1246.58 L163.589 1238.44 L147.987 1238.44 L147.987 1233.92 L162.362 1212.02 Z\" fill=\"#000000\" fill-rule=\"evenodd\" fill-opacity=\"1\" /><path clip-path=\"url(#clip360)\" d=\"M 0 0 M116.135 921.774 L123.774 921.774 L123.774 895.409 L115.464 897.076 L115.464 892.816 L123.728 891.15 L128.404 891.15 L128.404 921.774 L136.042 921.774 L136.042 925.71 L116.135 925.71 L116.135 921.774 Z\" fill=\"#000000\" fill-rule=\"evenodd\" fill-opacity=\"1\" /><path clip-path=\"url(#clip360)\" d=\"M 0 0 M141.112 919.83 L145.996 919.83 L145.996 925.71 L141.112 925.71 L141.112 919.83 Z\" fill=\"#000000\" fill-rule=\"evenodd\" fill-opacity=\"1\" /><path clip-path=\"url(#clip360)\" d=\"M 0 0 M161.644 906.566 Q158.496 906.566 156.644 908.719 Q154.815 910.872 154.815 914.622 Q154.815 918.349 156.644 920.524 Q158.496 922.677 161.644 922.677 Q164.792 922.677 166.621 920.524 Q168.473 918.349 168.473 914.622 Q168.473 910.872 166.621 908.719 Q164.792 906.566 161.644 906.566 M170.927 891.914 L170.927 896.173 Q169.167 895.339 167.362 894.9 Q165.579 894.46 163.82 894.46 Q159.19 894.46 156.737 897.585 Q154.306 900.71 153.959 907.029 Q155.325 905.015 157.385 903.95 Q159.445 902.863 161.922 902.863 Q167.13 902.863 170.139 906.034 Q173.172 909.182 173.172 914.622 Q173.172 919.946 170.024 923.163 Q166.876 926.381 161.644 926.381 Q155.649 926.381 152.478 921.798 Q149.306 917.191 149.306 908.464 Q149.306 900.27 153.195 895.409 Q157.084 890.525 163.635 890.525 Q165.394 890.525 167.177 890.872 Q168.982 891.219 170.927 891.914 Z\" fill=\"#000000\" fill-rule=\"evenodd\" fill-opacity=\"1\" /><path clip-path=\"url(#clip360)\" d=\"M 0 0 M116.39 600.9 L124.029 600.9 L124.029 574.535 L115.718 576.201 L115.718 571.942 L123.982 570.275 L128.658 570.275 L128.658 600.9 L136.297 600.9 L136.297 604.835 L116.39 604.835 L116.39 600.9 Z\" fill=\"#000000\" fill-rule=\"evenodd\" fill-opacity=\"1\" /><path clip-path=\"url(#clip360)\" d=\"M 0 0 M141.366 598.956 L146.251 598.956 L146.251 604.835 L141.366 604.835 L141.366 598.956 Z\" fill=\"#000000\" fill-rule=\"evenodd\" fill-opacity=\"1\" /><path clip-path=\"url(#clip360)\" d=\"M 0 0 M161.32 588.423 Q157.987 588.423 156.065 590.206 Q154.167 591.988 154.167 595.113 Q154.167 598.238 156.065 600.021 Q157.987 601.803 161.32 601.803 Q164.653 601.803 166.575 600.021 Q168.496 598.215 168.496 595.113 Q168.496 591.988 166.575 590.206 Q164.677 588.423 161.32 588.423 M156.644 586.433 Q153.635 585.692 151.945 583.632 Q150.278 581.572 150.278 578.609 Q150.278 574.465 153.218 572.058 Q156.181 569.65 161.32 569.65 Q166.482 569.65 169.422 572.058 Q172.362 574.465 172.362 578.609 Q172.362 581.572 170.672 583.632 Q169.005 585.692 166.019 586.433 Q169.399 587.22 171.274 589.511 Q173.172 591.803 173.172 595.113 Q173.172 600.136 170.093 602.821 Q167.038 605.507 161.32 605.507 Q155.603 605.507 152.524 602.821 Q149.468 600.136 149.468 595.113 Q149.468 591.803 151.366 589.511 Q153.265 587.22 156.644 586.433 M154.931 579.048 Q154.931 581.734 156.598 583.238 Q158.288 584.743 161.32 584.743 Q164.329 584.743 166.019 583.238 Q167.732 581.734 167.732 579.048 Q167.732 576.363 166.019 574.859 Q164.329 573.354 161.32 573.354 Q158.288 573.354 156.598 574.859 Q154.931 576.363 154.931 579.048 Z\" fill=\"#000000\" fill-rule=\"evenodd\" fill-opacity=\"1\" /><path clip-path=\"url(#clip360)\" d=\"M 0 0 M119.885 280.026 L136.204 280.026 L136.204 283.961 L114.26 283.961 L114.26 280.026 Q116.922 277.271 121.505 272.642 Q126.112 267.989 127.292 266.646 Q129.538 264.123 130.417 262.387 Q131.32 260.628 131.32 258.938 Q131.32 256.183 129.376 254.447 Q127.455 252.711 124.353 252.711 Q122.154 252.711 119.7 253.475 Q117.269 254.239 114.492 255.79 L114.492 251.068 Q117.316 249.933 119.769 249.355 Q122.223 248.776 124.26 248.776 Q129.63 248.776 132.825 251.461 Q136.019 254.146 136.019 258.637 Q136.019 260.767 135.209 262.688 Q134.422 264.586 132.316 267.179 Q131.737 267.85 128.635 271.068 Q125.533 274.262 119.885 280.026 Z\" fill=\"#000000\" fill-rule=\"evenodd\" fill-opacity=\"1\" /><path clip-path=\"url(#clip360)\" d=\"M 0 0 M141.274 278.081 L146.158 278.081 L146.158 283.961 L141.274 283.961 L141.274 278.081 Z\" fill=\"#000000\" fill-rule=\"evenodd\" fill-opacity=\"1\" /><path clip-path=\"url(#clip360)\" d=\"M 0 0 M161.227 252.48 Q157.616 252.48 155.788 256.045 Q153.982 259.586 153.982 266.716 Q153.982 273.822 155.788 277.387 Q157.616 280.929 161.227 280.929 Q164.862 280.929 166.667 277.387 Q168.496 273.822 168.496 266.716 Q168.496 259.586 166.667 256.045 Q164.862 252.48 161.227 252.48 M161.227 248.776 Q167.038 248.776 170.093 253.383 Q173.172 257.966 173.172 266.716 Q173.172 275.443 170.093 280.049 Q167.038 284.632 161.227 284.632 Q155.417 284.632 152.339 280.049 Q149.283 275.443 149.283 266.716 Q149.283 257.966 152.339 253.383 Q155.417 248.776 161.227 248.776 Z\" fill=\"#000000\" fill-rule=\"evenodd\" fill-opacity=\"1\" /><path clip-path=\"url(#clip360)\" d=\"M 0 0 M29.7248 895.406 L35.1993 895.406 Q33.8307 897.888 33.1623 900.403 Q32.4621 902.885 32.4621 905.432 Q32.4621 911.129 36.0905 914.28 Q39.6872 917.431 46.212 917.431 Q52.7369 917.431 56.3653 914.28 Q59.9619 911.129 59.9619 905.432 Q59.9619 902.885 59.2935 900.403 Q58.5933 897.888 57.2247 895.406 L62.6355 895.406 Q63.7814 897.857 64.3543 900.498 Q64.9272 903.108 64.9272 906.068 Q64.9272 914.121 59.8664 918.863 Q54.8057 923.606 46.212 923.606 Q37.491 923.606 32.4939 918.832 Q27.4968 914.025 27.4968 905.686 Q27.4968 902.981 28.0697 900.403 Q28.6108 897.825 29.7248 895.406 Z\" fill=\"#000000\" fill-rule=\"evenodd\" fill-opacity=\"1\" /><path clip-path=\"url(#clip360)\" d=\"M 0 0 M44.7161 858.771 L47.5806 858.771 L47.5806 885.698 Q53.6281 885.316 56.8109 882.07 Q59.9619 878.791 59.9619 872.967 Q59.9619 869.593 59.1344 866.442 Q58.3069 863.259 56.6518 860.14 L62.1899 860.14 Q63.5267 863.291 64.227 866.601 Q64.9272 869.911 64.9272 873.317 Q64.9272 881.847 59.9619 886.844 Q54.9967 891.809 46.5303 891.809 Q37.7774 891.809 32.6531 887.099 Q27.4968 882.356 27.4968 874.335 Q27.4968 867.142 32.1438 862.972 Q36.7589 858.771 44.7161 858.771 M42.9973 864.628 Q38.1912 864.691 35.3266 867.333 Q32.4621 869.943 32.4621 874.272 Q32.4621 879.173 35.2312 882.133 Q38.0002 885.061 43.0292 885.507 L42.9973 864.628 Z\" fill=\"#000000\" fill-rule=\"evenodd\" fill-opacity=\"1\" /><path clip-path=\"url(#clip360)\" d=\"M 0 0 M42.4881 822.996 L64.0042 822.996 L64.0042 828.852 L42.679 828.852 Q37.6183 828.852 35.1038 830.826 Q32.5894 832.799 32.5894 836.746 Q32.5894 841.488 35.6131 844.225 Q38.6368 846.963 43.8567 846.963 L64.0042 846.963 L64.0042 852.851 L28.3562 852.851 L28.3562 846.963 L33.8944 846.963 Q30.6797 844.862 29.0883 842.029 Q27.4968 839.165 27.4968 835.441 Q27.4968 829.298 31.3163 826.147 Q35.1038 822.996 42.4881 822.996 Z\" fill=\"#000000\" fill-rule=\"evenodd\" fill-opacity=\"1\" /><path clip-path=\"url(#clip360)\" d=\"M 0 0 M46.0847 800.652 Q46.0847 807.75 47.7079 810.487 Q49.3312 813.224 53.2461 813.224 Q56.3653 813.224 58.2114 811.187 Q60.0256 809.119 60.0256 805.586 Q60.0256 800.716 56.5881 797.788 Q53.1188 794.828 47.3897 794.828 L46.0847 794.828 L46.0847 800.652 M43.6657 788.971 L64.0042 788.971 L64.0042 794.828 L58.5933 794.828 Q61.8398 796.833 63.3994 799.825 Q64.9272 802.817 64.9272 807.145 Q64.9272 812.62 61.8716 815.866 Q58.7843 819.081 53.6281 819.081 Q47.6125 819.081 44.5569 815.071 Q41.5014 811.028 41.5014 803.039 L41.5014 794.828 L40.9285 794.828 Q36.8862 794.828 34.6901 797.501 Q32.4621 800.143 32.4621 804.949 Q32.4621 808.005 33.1941 810.901 Q33.9262 813.797 35.3903 816.471 L29.9795 816.471 Q28.7381 813.256 28.1334 810.233 Q27.4968 807.209 27.4968 804.344 Q27.4968 796.61 31.5072 792.791 Q35.5176 788.971 43.6657 788.971 Z\" fill=\"#000000\" fill-rule=\"evenodd\" fill-opacity=\"1\" /><path clip-path=\"url(#clip360)\" d=\"M 0 0 M18.0438 733.367 L24.314 733.367 Q22.5634 737.027 21.704 740.273 Q20.8447 743.52 20.8447 746.544 Q20.8447 751.795 22.8817 754.66 Q24.9187 757.493 28.6745 757.493 Q31.8255 757.493 33.4488 755.615 Q35.0402 753.705 36.0269 748.422 L36.8226 744.539 Q38.1912 737.345 41.6605 733.94 Q45.098 730.502 50.8908 730.502 Q57.7976 730.502 61.3624 735.149 Q64.9272 739.764 64.9272 748.708 Q64.9272 752.082 64.1633 755.901 Q63.3994 759.689 61.9035 763.763 L55.2831 763.763 Q57.4793 759.848 58.5933 756.092 Q59.7073 752.337 59.7073 748.708 Q59.7073 743.202 57.543 740.21 Q55.3786 737.218 51.3682 737.218 Q47.8671 737.218 45.8937 739.382 Q43.9204 741.515 42.9337 746.416 L42.1698 750.331 Q40.7375 757.525 37.682 760.739 Q34.6264 763.954 29.1837 763.954 Q22.8817 763.954 19.2532 759.53 Q15.6248 755.074 15.6248 747.276 Q15.6248 743.934 16.2295 740.464 Q16.8343 736.995 18.0438 733.367 Z\" fill=\"#000000\" fill-rule=\"evenodd\" fill-opacity=\"1\" /><path clip-path=\"url(#clip360)\" d=\"M 0 0 M21.7677 717.675 L39.6235 717.675 L39.6235 709.591 Q39.6235 705.103 37.3 702.652 Q34.9765 700.201 30.6797 700.201 Q26.4147 700.201 24.0912 702.652 Q21.7677 705.103 21.7677 709.591 L21.7677 717.675 M16.4842 724.105 L16.4842 709.591 Q16.4842 701.602 20.1126 697.528 Q23.7092 693.422 30.6797 693.422 Q37.7138 693.422 41.3104 697.528 Q44.907 701.602 44.907 709.591 L44.907 717.675 L64.0042 717.675 L64.0042 724.105 L16.4842 724.105 Z\" fill=\"#000000\" fill-rule=\"evenodd\" fill-opacity=\"1\" /><path clip-path=\"url(#clip360)\" d=\"M 0 0 M20.8447 667.736 Q20.8447 674.739 26.0645 678.876 Q31.2844 682.982 40.2919 682.982 Q49.2675 682.982 54.4874 678.876 Q59.7073 674.739 59.7073 667.736 Q59.7073 660.734 54.4874 656.66 Q49.2675 652.554 40.2919 652.554 Q31.2844 652.554 26.0645 656.66 Q20.8447 660.734 20.8447 667.736 M15.6248 667.736 Q15.6248 657.742 22.3406 651.758 Q29.0246 645.775 40.2919 645.775 Q51.5274 645.775 58.2432 651.758 Q64.9272 657.742 64.9272 667.736 Q64.9272 677.762 58.2432 683.778 Q51.5592 689.762 40.2919 689.762 Q29.0246 689.762 22.3406 683.778 Q15.6248 677.762 15.6248 667.736 Z\" fill=\"#000000\" fill-rule=\"evenodd\" fill-opacity=\"1\" /><path clip-path=\"url(#clip360)\" d=\"M 0 0 M16.4842 645.966 L16.4842 605.766 L21.895 605.766 L21.895 622.635 L64.0042 622.635 L64.0042 629.096 L21.895 629.096 L21.895 645.966 L16.4842 645.966 Z\" fill=\"#000000\" fill-rule=\"evenodd\" fill-opacity=\"1\" /><path clip-path=\"url(#clip360)\" d=\"M 0 0 M1169.19 20.677 L1169.19 25.6538 Q1166.93 24.4096 1164.65 23.802 Q1162.39 23.1654 1160.07 23.1654 Q1154.89 23.1654 1152.03 26.464 Q1149.16 29.7336 1149.16 35.6653 Q1149.16 41.597 1152.03 44.8956 Q1154.89 48.1653 1160.07 48.1653 Q1162.39 48.1653 1164.65 47.5576 Q1166.93 46.921 1169.19 45.6768 L1169.19 50.5958 Q1166.96 51.6375 1164.56 52.1583 Q1162.19 52.6791 1159.49 52.6791 Q1152.17 52.6791 1147.86 48.0784 Q1143.55 43.4778 1143.55 35.6653 Q1143.55 27.7371 1147.89 23.1943 Q1152.26 18.6515 1159.84 18.6515 Q1162.3 18.6515 1164.65 19.1724 Q1166.99 19.6642 1169.19 20.677 Z\" fill=\"#000000\" fill-rule=\"evenodd\" fill-opacity=\"1\" /><path clip-path=\"url(#clip360)\" d=\"M 0 0 M1202.49 34.3054 L1202.49 36.9095 L1178.01 36.9095 Q1178.36 42.4072 1181.31 45.3007 Q1184.29 48.1653 1189.59 48.1653 Q1192.65 48.1653 1195.52 47.4129 Q1198.41 46.6606 1201.25 45.156 L1201.25 50.1907 Q1198.38 51.406 1195.37 52.0425 Q1192.36 52.6791 1189.27 52.6791 Q1181.51 52.6791 1176.97 48.1653 Q1172.46 43.6514 1172.46 35.9547 Q1172.46 27.9975 1176.74 23.339 Q1181.05 18.6515 1188.34 18.6515 Q1194.88 18.6515 1198.67 22.876 Q1202.49 27.0716 1202.49 34.3054 M1197.17 32.7429 Q1197.11 28.3737 1194.71 25.7695 Q1192.34 23.1654 1188.4 23.1654 Q1183.94 23.1654 1181.25 25.6827 Q1178.59 28.2001 1178.19 32.7718 L1197.17 32.7429 Z\" fill=\"#000000\" fill-rule=\"evenodd\" fill-opacity=\"1\" /><path clip-path=\"url(#clip360)\" d=\"M 0 0 M1235.02 32.2799 L1235.02 51.84 L1229.69 51.84 L1229.69 32.4535 Q1229.69 27.8529 1227.9 25.567 Q1226.1 23.2811 1222.52 23.2811 Q1218.2 23.2811 1215.72 26.03 Q1213.23 28.7788 1213.23 33.5241 L1213.23 51.84 L1207.87 51.84 L1207.87 19.4328 L1213.23 19.4328 L1213.23 24.4675 Q1215.14 21.545 1217.71 20.0983 Q1220.32 18.6515 1223.7 18.6515 Q1229.29 18.6515 1232.15 22.1237 Q1235.02 25.567 1235.02 32.2799 Z\" fill=\"#000000\" fill-rule=\"evenodd\" fill-opacity=\"1\" /><path clip-path=\"url(#clip360)\" d=\"M 0 0 M1254.08 54.8492 Q1251.83 60.6362 1249.69 62.4013 Q1247.54 64.1663 1243.96 64.1663 L1239.7 64.1663 L1239.7 59.7103 L1242.83 59.7103 Q1245.03 59.7103 1246.24 58.6687 Q1247.46 57.627 1248.93 53.7497 L1249.89 51.3192 L1236.78 19.4328 L1242.42 19.4328 L1252.55 44.7799 L1262.68 19.4328 L1268.32 19.4328 L1254.08 54.8492 Z\" fill=\"#000000\" fill-rule=\"evenodd\" fill-opacity=\"1\" /><path clip-path=\"url(#clip360)\" d=\"M 0 0 M1290.43 19.4328 L1315.71 19.4328 L1315.71 24.2939 L1295.69 47.5866 L1315.71 47.5866 L1315.71 51.84 L1289.7 51.84 L1289.7 46.9789 L1309.73 23.6862 L1290.43 23.6862 L1290.43 19.4328 Z\" fill=\"#000000\" fill-rule=\"evenodd\" fill-opacity=\"1\" /><path clip-path=\"url(#clip360)\" d=\"M 0 0 M1321.47 6.81709 L1326.8 6.81709 L1326.8 24.236 L1330.41 21.6318 L1332.61 24.6989 L1326.8 28.7788 L1326.8 51.84 L1321.47 51.84 L1321.47 32.5693 L1317.91 35.1156 L1315.77 32.0484 L1321.47 27.9686 L1321.47 6.81709 Z\" fill=\"#000000\" fill-rule=\"evenodd\" fill-opacity=\"1\" /><path clip-path=\"url(#clip360)\" d=\"M 0 0 M1350.76 23.1654 Q1346.47 23.1654 1343.98 26.5218 Q1341.5 29.8494 1341.5 35.6653 Q1341.5 41.4813 1343.96 44.8377 Q1346.44 48.1653 1350.76 48.1653 Q1355.01 48.1653 1357.5 44.8088 Q1359.99 41.4523 1359.99 35.6653 Q1359.99 29.9072 1357.5 26.5508 Q1355.01 23.1654 1350.76 23.1654 M1350.76 18.6515 Q1357.7 18.6515 1361.66 23.1654 Q1365.63 27.6792 1365.63 35.6653 Q1365.63 43.6225 1361.66 48.1653 Q1357.7 52.6791 1350.76 52.6791 Q1343.78 52.6791 1339.82 48.1653 Q1335.88 43.6225 1335.88 35.6653 Q1335.88 27.6792 1339.82 23.1654 Q1343.78 18.6515 1350.76 18.6515 Z\" fill=\"#000000\" fill-rule=\"evenodd\" fill-opacity=\"1\" /><path clip-path=\"url(#clip360)\" d=\"M 0 0 M1376.48 10.2314 L1376.48 19.4328 L1387.44 19.4328 L1387.44 23.5705 L1376.48 23.5705 L1376.48 41.163 Q1376.48 45.1271 1377.55 46.2555 Q1378.65 47.384 1381.98 47.384 L1387.44 47.384 L1387.44 51.84 L1381.98 51.84 Q1375.81 51.84 1373.47 49.5541 Q1371.13 47.2393 1371.13 41.163 L1371.13 23.5705 L1367.22 23.5705 L1367.22 19.4328 L1371.13 19.4328 L1371.13 10.2314 L1376.48 10.2314 Z\" fill=\"#000000\" fill-rule=\"evenodd\" fill-opacity=\"1\" /><path clip-path=\"url(#clip360)\" d=\"M 0 0 M1407.76 35.5496 Q1401.3 35.5496 1398.82 37.0253 Q1396.33 38.501 1396.33 42.06 Q1396.33 44.8956 1398.18 46.5738 Q1400.06 48.2231 1403.27 48.2231 Q1407.7 48.2231 1410.36 45.0981 Q1413.05 41.9442 1413.05 36.7359 L1413.05 35.5496 L1407.76 35.5496 M1418.38 33.3505 L1418.38 51.84 L1413.05 51.84 L1413.05 46.921 Q1411.23 49.8724 1408.51 51.2902 Q1405.79 52.6791 1401.85 52.6791 Q1396.88 52.6791 1393.93 49.9014 Q1391 47.0947 1391 42.4072 Q1391 36.9385 1394.65 34.1607 Q1398.32 31.3829 1405.59 31.3829 L1413.05 31.3829 L1413.05 30.8621 Q1413.05 27.1874 1410.62 25.1908 Q1408.22 23.1654 1403.85 23.1654 Q1401.07 23.1654 1398.44 23.8309 Q1395.81 24.4964 1393.38 25.8274 L1393.38 20.9085 Q1396.3 19.78 1399.05 19.2302 Q1401.8 18.6515 1404.4 18.6515 Q1411.43 18.6515 1414.9 22.2973 Q1418.38 25.9431 1418.38 33.3505 Z\" fill=\"#000000\" fill-rule=\"evenodd\" fill-opacity=\"1\" /><polyline clip-path=\"url(#clip362)\" style=\"stroke:#009af9; stroke-width:4; stroke-opacity:1; fill:none\" points=\"\n",
       "  269.839,187.794 277.693,201.64 285.546,194.099 293.4,238.171 301.253,243.931 309.106,225.24 316.96,236.102 324.813,245.375 332.667,223.7 340.52,229.909 \n",
       "  348.373,224.374 356.227,224.679 364.08,216.496 371.933,222.304 379.787,263.906 387.64,275.906 395.494,273.355 403.347,265.029 411.2,227.663 419.054,235.476 \n",
       "  426.907,224.631 434.761,238.091 442.614,216.994 450.467,227.47 458.321,229.909 466.174,227.823 474.028,241.845 481.881,245.423 489.734,213.512 497.588,193.939 \n",
       "  505.441,181.698 513.295,157.696 521.148,143.465 529.001,172.472 536.855,168.911 544.708,173.162 552.562,210.624 560.415,216.865 568.268,239.086 576.122,210.48 \n",
       "  583.975,203.822 591.829,191.484 599.682,184.072 607.535,207.592 615.389,202.041 623.242,216.496 631.095,208.555 638.949,214.94 646.802,217.876 654.656,257.568 \n",
       "  662.509,258.563 670.362,251.183 678.216,237.016 686.069,219.994 693.923,212.854 701.776,212.951 709.629,211.346 717.483,221.406 725.336,213.769 733.19,218.486 \n",
       "  741.043,216.913 748.896,225.176 756.75,245.343 764.603,274.591 772.457,294.1 780.31,291.388 788.163,311.315 796.017,304.881 803.87,283.447 811.724,268.285 \n",
       "  819.577,262.734 827.43,283.543 835.284,307.962 843.137,327.792 850.991,322.433 858.844,343.402 866.697,366.024 874.551,406.326 882.404,414.508 890.258,446.21 \n",
       "  898.111,465.19 905.964,437.081 913.818,432.653 921.671,403.165 929.524,390.282 937.378,473.164 945.231,467.869 953.085,462.848 960.938,446.307 968.791,445.585 \n",
       "  976.645,462.575 984.498,491.903 992.352,463.714 1000.21,483.047 1008.06,478.073 1015.91,471.174 1023.77,514.059 1031.62,536.761 1039.47,509.39 1047.33,504.305 \n",
       "  1055.18,509.968 1063.03,527.006 1070.89,505.171 1078.74,531.37 1086.59,553.35 1094.45,565.335 1102.3,544.35 1110.15,619.145 1118.01,603.07 1125.86,639.601 \n",
       "  1133.71,650.8 1141.57,702.862 1149.42,715.568 1157.27,701.289 1165.13,724.89 1172.98,721.649 1180.83,779.149 1188.69,801.771 1196.54,762.913 1204.39,753.255 \n",
       "  1212.25,764.389 1220.1,752.838 1227.95,754.121 1235.81,820.077 1243.66,801.803 1251.51,838.303 1259.37,844.816 1267.22,828.628 1275.07,842.955 1282.93,836.393 \n",
       "  1290.78,857.507 1298.63,848.234 1306.49,789.899 1314.34,770.598 1322.19,745.778 1330.05,721.52 1337.9,757.908 1345.75,744.479 1353.61,745.554 1361.46,756.287 \n",
       "  1369.31,746.661 1377.17,744.543 1385.02,751.683 1392.87,808.028 1400.73,837.019 1408.58,840.148 1416.43,810.659 1424.29,821.826 1432.14,795.305 1440,758.581 \n",
       "  1447.85,769.266 1455.7,784.155 1463.56,777.738 1471.41,779.149 1479.26,753.014 1487.12,774.224 1494.97,770.534 1502.82,732.943 1510.68,711.798 1518.53,717.991 \n",
       "  1526.38,691.39 1534.24,691.791 1542.09,683.256 1549.94,673.165 1557.8,659.544 1565.65,667.261 1573.5,675.122 1581.36,706.086 1589.21,709.6 1597.06,683.048 \n",
       "  1604.92,665.945 1612.77,665.785 1620.62,700.15 1628.48,692.738 1636.33,705.99 1644.18,666.105 1652.04,681.491 1659.89,639.938 1667.74,633.023 1675.6,628.034 \n",
       "  1683.45,642.12 1691.3,660.458 1699.16,670.148 1707.01,649.211 1714.86,665.592 1722.72,658.822 1730.57,670.646 1738.42,654.746 1746.28,657.265 1754.13,649.628 \n",
       "  1761.98,665.175 1769.84,659.207 1777.69,665.432 1785.54,675.427 1793.4,640.419 1801.25,665.801 1809.1,659.303 1816.96,652.677 1824.81,633.954 1832.66,642.633 \n",
       "  1840.52,641.879 1848.37,648.008 1856.23,622.835 1864.08,641.591 1871.93,631.676 1879.79,630.472 1887.64,641.895 1895.49,644.174 1903.35,651.265 1911.2,672.378 \n",
       "  1919.05,686.994 1926.91,708.525 1934.76,690.925 1942.61,686.834 1950.47,693.877 1958.32,710.787 1966.17,771.561 1974.03,764.004 1981.88,801.017 1989.73,770.823 \n",
       "  1997.59,771.432 2005.44,777.016 2013.29,749.404 2021.15,740.628 2029,757.33 2036.85,755.244 2044.71,781.075 2052.56,788.182 2060.41,779.214 2068.27,781.797 \n",
       "  2076.12,802.397 2083.97,847.143 2091.83,862.865 2099.68,833.361 2107.53,861.807 2115.39,856.753 2123.24,877.818 2131.09,857.443 2138.95,805.67 2146.8,804.498 \n",
       "  2154.65,835.222 2162.51,861.566 2170.36,864.502 2178.21,850.351 2186.07,855.517 2193.92,877.176 2201.77,890.06 2209.63,899.574 2217.48,941.817 2225.33,955.454 \n",
       "  2233.19,979.985 2241.04,1030.75 2248.89,1039.23 2256.75,995.178 2264.6,1009.68 2272.45,993.862 2280.31,902.606 2288.16,867.983 \n",
       "  \"/>\n",
       "<polyline clip-path=\"url(#clip362)\" style=\"stroke:#e26f46; stroke-width:4; stroke-opacity:1; fill:none\" points=\"\n",
       "  273.766,936.346 281.619,938.656 289.473,972.685 297.326,980.642 305.18,936.811 313.033,928.468 320.886,927.955 328.74,879.262 336.593,828.532 344.447,803.568 \n",
       "  352.3,899.076 360.153,850.127 368.007,909.761 375.86,934.741 383.714,1087.72 391.567,1167.42 399.42,1103.25 407.274,1073.41 415.127,1063.73 422.981,1073.13 \n",
       "  430.834,1011.69 438.687,1076.01 446.541,1118.43 454.394,1137.84 462.248,1194.36 470.101,1134 477.954,1137.49 485.808,1186.69 493.661,1238.69 501.514,1218.7 \n",
       "  509.368,1230.06 517.221,1236.27 525.075,1180.5 532.928,1202.82 540.781,1199.33 548.635,1248.49 556.488,1275.17 564.342,1260.28 572.195,1238.88 580.048,1240.78 \n",
       "  587.902,1235.9 595.755,1183.21 603.609,1210.92 611.462,1214.66 619.315,1228.87 627.169,1214.46 635.022,1253.24 642.876,1231.02 650.729,1234.29 658.582,1235.22 \n",
       "  666.436,1260.35 674.289,1278.21 682.143,1298.89 689.996,1260.97 697.849,1269.38 705.703,1252.71 713.556,1220.99 721.41,1243.52 729.263,1228.92 737.116,1155.82 \n",
       "  744.97,1146.86 752.823,1153.91 760.677,1161.02 768.53,1142.57 776.383,1110.32 784.237,1072.83 792.09,1085.01 799.943,1050.48 807.797,1064.33 815.65,1088.06 \n",
       "  823.504,1116.05 831.357,1131.81 839.21,1137.33 847.064,1090.65 854.917,1122.15 862.771,1134.63 870.624,1131 878.477,1174.35 886.331,1155.73 894.184,1169.25 \n",
       "  902.038,1174.47 909.891,1187.22 917.744,1206.2 925.598,1192.56 933.451,1201.32 941.305,1195.53 949.158,1201.23 957.011,1197.7 964.865,1197.43 972.718,1225 \n",
       "  980.572,1230.11 988.425,1227.88 996.278,1217.32 1004.13,1228.53 1011.99,1214.51 1019.84,1216.23 1027.69,1210.34 1035.55,1216.31 1043.4,1210.2 1051.25,1209.23 \n",
       "  1059.11,1231.47 1066.96,1239.81 1074.81,1246.74 1082.67,1266.72 1090.52,1297.46 1098.37,1297.62 1106.23,1273.75 1114.08,1315.17 1121.93,1311.83 1129.79,1343.29 \n",
       "  1137.64,1354.12 1145.49,1385.91 1153.35,1365.52 1161.2,1364.81 1169.05,1239.94 1176.91,1234.77 1184.76,1269.28 1192.61,1258.5 1200.47,1292.74 1208.32,1292.95 \n",
       "  1216.17,1239.43 1224.03,1246.57 1231.88,1264.17 1239.73,1243.45 1247.59,1240.17 1255.44,1275.61 1263.29,1247.39 1271.15,1259.69 1279,1261.65 1286.85,1264.42 \n",
       "  1294.71,1257.61 1302.56,1256.05 1310.41,1271.05 1318.27,1260.54 1326.12,1279.62 1333.97,1283.58 1341.83,1285.84 1349.68,1274.82 1357.53,1288.12 1365.39,1291.55 \n",
       "  1373.24,1301.28 1381.09,1279.47 1388.95,1289.11 1396.8,1278.21 1404.65,1271.1 1412.51,1249.45 1420.36,1274.68 1428.22,1272.57 1436.07,1305.94 1443.92,1285.01 \n",
       "  1451.78,1273.89 1459.63,1268.23 1467.48,1280.19 1475.34,1277.31 1483.19,1242.33 1491.04,1244.39 1498.9,1256.63 1506.75,1274.68 1514.6,1263.99 1522.46,1258.84 \n",
       "  1530.31,1279.39 1538.16,1310.39 1546.02,1298.71 1553.87,1308 1561.72,1297.41 1569.58,1313.04 1577.43,1297.28 1585.28,1279.44 1593.14,1300.86 1600.99,1312.33 \n",
       "  1608.84,1308.53 1616.7,1306.73 1624.55,1317.3 1632.4,1334.28 1640.26,1305.43 1648.11,1297.39 1655.96,1324.65 1663.82,1309.12 1671.67,1205.62 1679.52,1230.72 \n",
       "  1687.38,1216.05 1695.23,1227.99 1703.08,1233.56 1710.94,1222.13 1718.79,1220.9 1726.64,1202.46 1734.5,1191.52 1742.35,1198 1750.2,1163.77 1758.06,1111.54 \n",
       "  1765.91,1106.62 1773.76,1118.23 1781.62,1083.02 1789.47,1070.79 1797.32,1077.63 1805.18,1104.56 1813.03,1107.89 1820.88,1108.33 1828.74,1143.79 1836.59,1141.75 \n",
       "  1844.44,1099.05 1852.3,1080.76 1860.15,1096.17 1868.01,1074.95 1875.86,1106.47 1883.71,1110.56 1891.57,1124.63 1899.42,1149.52 1907.27,1148.76 1915.13,1147.69 \n",
       "  1922.98,1157.56 1930.83,1168.21 1938.69,1147.51 1946.54,1168.67 1954.39,1201.21 1962.25,1215.19 1970.1,1255.17 1977.95,1245.65 1985.81,1198.66 1993.66,1200.84 \n",
       "  2001.51,1125.58 2009.37,1139.14 2017.22,1141.29 2025.07,1148.19 2032.93,1151.12 2040.78,1140.41 2048.63,1151.01 2056.49,1143.74 2064.34,1185.57 2072.19,1172.01 \n",
       "  2080.05,1156.45 2087.9,1163.54 2095.75,1155.79 2103.61,1159.53 2111.46,1151.97 2119.31,1164.13 2127.17,1169.08 2135.02,1129.5 2142.87,1128.31 2150.73,1097.89 \n",
       "  2158.58,1102.19 2166.43,1116.18 2174.29,1111.51 2182.14,1126.75 2189.99,1107.71 2197.85,1106.92 2205.7,1090.24 2213.55,1067.49 2221.41,1054.64 2229.26,1042.91 \n",
       "  2237.11,1041.72 2244.97,1075.54 2252.82,1081.73 2260.67,1076.25 2268.53,1034.31 2276.38,1004.08 2284.24,1003.94 2292.09,1018.75 \n",
       "  \"/>\n",
       "<path clip-path=\"url(#clip360)\" d=\"\n",
       "M1708.29 331.532 L2281.3 331.532 L2281.3 150.092 L1708.29 150.092  Z\n",
       "  \" fill=\"#ffffff\" fill-rule=\"evenodd\" fill-opacity=\"1\"/>\n",
       "<polyline clip-path=\"url(#clip360)\" style=\"stroke:#000000; stroke-width:4; stroke-opacity:1; fill:none\" points=\"\n",
       "  1708.29,331.532 2281.3,331.532 2281.3,150.092 1708.29,150.092 1708.29,331.532 \n",
       "  \"/>\n",
       "<polyline clip-path=\"url(#clip360)\" style=\"stroke:#009af9; stroke-width:4; stroke-opacity:1; fill:none\" points=\"\n",
       "  1732.11,210.572 1875.01,210.572 \n",
       "  \"/>\n",
       "<path clip-path=\"url(#clip360)\" d=\"M 0 0 M1898.83 201.926 L1903.09 201.926 L1908.42 222.157 L1913.72 201.926 L1918.74 201.926 L1924.06 222.157 L1929.36 201.926 L1933.62 201.926 L1926.84 227.852 L1921.82 227.852 L1916.24 206.602 L1910.64 227.852 L1905.61 227.852 L1898.83 201.926 Z\" fill=\"#000000\" fill-rule=\"evenodd\" fill-opacity=\"1\" /><path clip-path=\"url(#clip360)\" d=\"M 0 0 M1968.18 205.907 Q1967.47 205.491 1966.61 205.306 Q1965.78 205.097 1964.76 205.097 Q1961.15 205.097 1959.2 207.458 Q1957.28 209.796 1957.28 214.194 L1957.28 227.852 L1953 227.852 L1953 201.926 L1957.28 201.926 L1957.28 205.954 Q1958.62 203.593 1960.78 202.458 Q1962.93 201.301 1966.01 201.301 Q1966.45 201.301 1966.98 201.37 Q1967.51 201.417 1968.16 201.532 L1968.18 205.907 Z\" fill=\"#000000\" fill-rule=\"evenodd\" fill-opacity=\"1\" /><path clip-path=\"url(#clip360)\" d=\"M 0 0 M1981.66 204.912 Q1978.23 204.912 1976.24 207.597 Q1974.25 210.259 1974.25 214.912 Q1974.25 219.565 1976.22 222.25 Q1978.21 224.912 1981.66 224.912 Q1985.06 224.912 1987.05 222.227 Q1989.04 219.542 1989.04 214.912 Q1989.04 210.306 1987.05 207.62 Q1985.06 204.912 1981.66 204.912 M1981.66 201.301 Q1987.21 201.301 1990.38 204.912 Q1993.55 208.523 1993.55 214.912 Q1993.55 221.278 1990.38 224.912 Q1987.21 228.523 1981.66 228.523 Q1976.08 228.523 1972.91 224.912 Q1969.76 221.278 1969.76 214.912 Q1969.76 208.523 1972.91 204.912 Q1976.08 201.301 1981.66 201.301 Z\" fill=\"#000000\" fill-rule=\"evenodd\" fill-opacity=\"1\" /><path clip-path=\"url(#clip360)\" d=\"M 0 0 M1997.86 191.833 L2002.14 191.833 L2002.14 213.106 L2014.85 201.926 L2020.29 201.926 L2006.54 214.055 L2020.87 227.852 L2015.31 227.852 L2002.14 215.19 L2002.14 227.852 L1997.86 227.852 L1997.86 191.833 Z\" fill=\"#000000\" fill-rule=\"evenodd\" fill-opacity=\"1\" /><path clip-path=\"url(#clip360)\" d=\"M 0 0 M2023.44 217.62 L2023.44 201.926 L2027.7 201.926 L2027.7 217.458 Q2027.7 221.139 2029.13 222.991 Q2030.57 224.819 2033.44 224.819 Q2036.89 224.819 2038.88 222.62 Q2040.89 220.421 2040.89 216.625 L2040.89 201.926 L2045.15 201.926 L2045.15 227.852 L2040.89 227.852 L2040.89 223.87 Q2039.34 226.231 2037.28 227.389 Q2035.24 228.523 2032.53 228.523 Q2028.07 228.523 2025.75 225.745 Q2023.44 222.967 2023.44 217.62 M2034.16 201.301 L2034.16 201.301 Z\" fill=\"#000000\" fill-rule=\"evenodd\" fill-opacity=\"1\" /><path clip-path=\"url(#clip360)\" d=\"M 0 0 M2069.32 223.917 L2085.64 223.917 L2085.64 227.852 L2063.69 227.852 L2063.69 223.917 Q2066.35 221.162 2070.94 216.532 Q2075.54 211.88 2076.72 210.537 Q2078.97 208.014 2079.85 206.278 Q2080.75 204.519 2080.75 202.829 Q2080.75 200.074 2078.81 198.338 Q2076.89 196.602 2073.78 196.602 Q2071.59 196.602 2069.13 197.366 Q2066.7 198.13 2063.92 199.681 L2063.92 194.958 Q2066.75 193.824 2069.2 193.245 Q2071.65 192.667 2073.69 192.667 Q2079.06 192.667 2082.26 195.352 Q2085.45 198.037 2085.45 202.528 Q2085.45 204.657 2084.64 206.579 Q2083.85 208.477 2081.75 211.069 Q2081.17 211.741 2078.07 214.958 Q2074.97 218.153 2069.32 223.917 Z\" fill=\"#000000\" fill-rule=\"evenodd\" fill-opacity=\"1\" /><path clip-path=\"url(#clip360)\" d=\"M 0 0 M2100.71 196.37 Q2097.09 196.37 2095.27 199.935 Q2093.46 203.477 2093.46 210.606 Q2093.46 217.713 2095.27 221.278 Q2097.09 224.819 2100.71 224.819 Q2104.34 224.819 2106.15 221.278 Q2107.97 217.713 2107.97 210.606 Q2107.97 203.477 2106.15 199.935 Q2104.34 196.37 2100.71 196.37 M2100.71 192.667 Q2106.52 192.667 2109.57 197.273 Q2112.65 201.856 2112.65 210.606 Q2112.65 219.333 2109.57 223.94 Q2106.52 228.523 2100.71 228.523 Q2094.9 228.523 2091.82 223.94 Q2088.76 219.333 2088.76 210.606 Q2088.76 201.856 2091.82 197.273 Q2094.9 192.667 2100.71 192.667 Z\" fill=\"#000000\" fill-rule=\"evenodd\" fill-opacity=\"1\" /><path clip-path=\"url(#clip360)\" d=\"M 0 0 M2118.53 223.917 L2126.17 223.917 L2126.17 197.551 L2117.86 199.218 L2117.86 194.958 L2126.12 193.292 L2130.8 193.292 L2130.8 223.917 L2138.44 223.917 L2138.44 227.852 L2118.53 227.852 L2118.53 223.917 Z\" fill=\"#000000\" fill-rule=\"evenodd\" fill-opacity=\"1\" /><path clip-path=\"url(#clip360)\" d=\"M 0 0 M2143.65 227.134 L2143.65 222.875 Q2145.4 223.708 2147.21 224.148 Q2149.02 224.588 2150.75 224.588 Q2155.38 224.588 2157.81 221.486 Q2160.27 218.361 2160.61 212.018 Q2159.27 214.009 2157.21 215.074 Q2155.15 216.139 2152.65 216.139 Q2147.46 216.139 2144.43 213.014 Q2141.42 209.866 2141.42 204.426 Q2141.42 199.102 2144.57 195.884 Q2147.72 192.667 2152.95 192.667 Q2158.95 192.667 2162.09 197.273 Q2165.27 201.856 2165.27 210.606 Q2165.27 218.778 2161.38 223.662 Q2157.51 228.523 2150.96 228.523 Q2149.2 228.523 2147.4 228.176 Q2145.59 227.829 2143.65 227.134 M2152.95 212.481 Q2156.1 212.481 2157.93 210.329 Q2159.78 208.176 2159.78 204.426 Q2159.78 200.699 2157.93 198.546 Q2156.1 196.37 2152.95 196.37 Q2149.8 196.37 2147.95 198.546 Q2146.12 200.699 2146.12 204.426 Q2146.12 208.176 2147.95 210.329 Q2149.8 212.481 2152.95 212.481 Z\" fill=\"#000000\" fill-rule=\"evenodd\" fill-opacity=\"1\" /><path clip-path=\"url(#clip360)\" d=\"M 0 0 M2177.3 193.292 L2181.24 193.292 L2169.2 232.25 L2165.27 232.25 L2177.3 193.292 Z\" fill=\"#000000\" fill-rule=\"evenodd\" fill-opacity=\"1\" /><path clip-path=\"url(#clip360)\" d=\"M 0 0 M2190.33 223.917 L2206.65 223.917 L2206.65 227.852 L2184.71 227.852 L2184.71 223.917 Q2187.37 221.162 2191.96 216.532 Q2196.56 211.88 2197.74 210.537 Q2199.99 208.014 2200.87 206.278 Q2201.77 204.519 2201.77 202.829 Q2201.77 200.074 2199.83 198.338 Q2197.9 196.602 2194.8 196.602 Q2192.6 196.602 2190.15 197.366 Q2187.72 198.13 2184.94 199.681 L2184.94 194.958 Q2187.77 193.824 2190.22 193.245 Q2192.67 192.667 2194.71 192.667 Q2200.08 192.667 2203.27 195.352 Q2206.47 198.037 2206.47 202.528 Q2206.47 204.657 2205.66 206.579 Q2204.87 208.477 2202.77 211.069 Q2202.19 211.741 2199.08 214.958 Q2195.98 218.153 2190.33 223.917 Z\" fill=\"#000000\" fill-rule=\"evenodd\" fill-opacity=\"1\" /><path clip-path=\"url(#clip360)\" d=\"M 0 0 M2221.72 196.37 Q2218.11 196.37 2216.28 199.935 Q2214.48 203.477 2214.48 210.606 Q2214.48 217.713 2216.28 221.278 Q2218.11 224.819 2221.72 224.819 Q2225.36 224.819 2227.16 221.278 Q2228.99 217.713 2228.99 210.606 Q2228.99 203.477 2227.16 199.935 Q2225.36 196.37 2221.72 196.37 M2221.72 192.667 Q2227.53 192.667 2230.59 197.273 Q2233.67 201.856 2233.67 210.606 Q2233.67 219.333 2230.59 223.94 Q2227.53 228.523 2221.72 228.523 Q2215.91 228.523 2212.83 223.94 Q2209.78 219.333 2209.78 210.606 Q2209.78 201.856 2212.83 197.273 Q2215.91 192.667 2221.72 192.667 Z\" fill=\"#000000\" fill-rule=\"evenodd\" fill-opacity=\"1\" /><polyline clip-path=\"url(#clip360)\" style=\"stroke:#e26f46; stroke-width:4; stroke-opacity:1; fill:none\" points=\"\n",
       "  1732.11,271.052 1875.01,271.052 \n",
       "  \"/>\n",
       "<path clip-path=\"url(#clip360)\" d=\"M 0 0 M1898.83 262.406 L1903.09 262.406 L1908.42 282.637 L1913.72 262.406 L1918.74 262.406 L1924.06 282.637 L1929.36 262.406 L1933.62 262.406 L1926.84 288.332 L1921.82 288.332 L1916.24 267.082 L1910.64 288.332 L1905.61 288.332 L1898.83 262.406 Z\" fill=\"#000000\" fill-rule=\"evenodd\" fill-opacity=\"1\" /><path clip-path=\"url(#clip360)\" d=\"M 0 0 M1968.18 266.387 Q1967.47 265.971 1966.61 265.786 Q1965.78 265.577 1964.76 265.577 Q1961.15 265.577 1959.2 267.938 Q1957.28 270.276 1957.28 274.674 L1957.28 288.332 L1953 288.332 L1953 262.406 L1957.28 262.406 L1957.28 266.434 Q1958.62 264.073 1960.78 262.938 Q1962.93 261.781 1966.01 261.781 Q1966.45 261.781 1966.98 261.85 Q1967.51 261.897 1968.16 262.012 L1968.18 266.387 Z\" fill=\"#000000\" fill-rule=\"evenodd\" fill-opacity=\"1\" /><path clip-path=\"url(#clip360)\" d=\"M 0 0 M1981.66 265.392 Q1978.23 265.392 1976.24 268.077 Q1974.25 270.739 1974.25 275.392 Q1974.25 280.045 1976.22 282.73 Q1978.21 285.392 1981.66 285.392 Q1985.06 285.392 1987.05 282.707 Q1989.04 280.022 1989.04 275.392 Q1989.04 270.786 1987.05 268.1 Q1985.06 265.392 1981.66 265.392 M1981.66 261.781 Q1987.21 261.781 1990.38 265.392 Q1993.55 269.003 1993.55 275.392 Q1993.55 281.758 1990.38 285.392 Q1987.21 289.003 1981.66 289.003 Q1976.08 289.003 1972.91 285.392 Q1969.76 281.758 1969.76 275.392 Q1969.76 269.003 1972.91 265.392 Q1976.08 261.781 1981.66 261.781 Z\" fill=\"#000000\" fill-rule=\"evenodd\" fill-opacity=\"1\" /><path clip-path=\"url(#clip360)\" d=\"M 0 0 M1997.86 252.313 L2002.14 252.313 L2002.14 273.586 L2014.85 262.406 L2020.29 262.406 L2006.54 274.535 L2020.87 288.332 L2015.31 288.332 L2002.14 275.67 L2002.14 288.332 L1997.86 288.332 L1997.86 252.313 Z\" fill=\"#000000\" fill-rule=\"evenodd\" fill-opacity=\"1\" /><path clip-path=\"url(#clip360)\" d=\"M 0 0 M2023.44 278.1 L2023.44 262.406 L2027.7 262.406 L2027.7 277.938 Q2027.7 281.619 2029.13 283.471 Q2030.57 285.299 2033.44 285.299 Q2036.89 285.299 2038.88 283.1 Q2040.89 280.901 2040.89 277.105 L2040.89 262.406 L2045.15 262.406 L2045.15 288.332 L2040.89 288.332 L2040.89 284.35 Q2039.34 286.711 2037.28 287.869 Q2035.24 289.003 2032.53 289.003 Q2028.07 289.003 2025.75 286.225 Q2023.44 283.447 2023.44 278.1 M2034.16 261.781 L2034.16 261.781 Z\" fill=\"#000000\" fill-rule=\"evenodd\" fill-opacity=\"1\" /><path clip-path=\"url(#clip360)\" d=\"M 0 0 M2069.32 284.397 L2085.64 284.397 L2085.64 288.332 L2063.69 288.332 L2063.69 284.397 Q2066.35 281.642 2070.94 277.012 Q2075.54 272.36 2076.72 271.017 Q2078.97 268.494 2079.85 266.758 Q2080.75 264.999 2080.75 263.309 Q2080.75 260.554 2078.81 258.818 Q2076.89 257.082 2073.78 257.082 Q2071.59 257.082 2069.13 257.846 Q2066.7 258.61 2063.92 260.161 L2063.92 255.438 Q2066.75 254.304 2069.2 253.725 Q2071.65 253.147 2073.69 253.147 Q2079.06 253.147 2082.26 255.832 Q2085.45 258.517 2085.45 263.008 Q2085.45 265.137 2084.64 267.059 Q2083.85 268.957 2081.75 271.549 Q2081.17 272.221 2078.07 275.438 Q2074.97 278.633 2069.32 284.397 Z\" fill=\"#000000\" fill-rule=\"evenodd\" fill-opacity=\"1\" /><path clip-path=\"url(#clip360)\" d=\"M 0 0 M2100.71 256.85 Q2097.09 256.85 2095.27 260.415 Q2093.46 263.957 2093.46 271.086 Q2093.46 278.193 2095.27 281.758 Q2097.09 285.299 2100.71 285.299 Q2104.34 285.299 2106.15 281.758 Q2107.97 278.193 2107.97 271.086 Q2107.97 263.957 2106.15 260.415 Q2104.34 256.85 2100.71 256.85 M2100.71 253.147 Q2106.52 253.147 2109.57 257.753 Q2112.65 262.336 2112.65 271.086 Q2112.65 279.813 2109.57 284.42 Q2106.52 289.003 2100.71 289.003 Q2094.9 289.003 2091.82 284.42 Q2088.76 279.813 2088.76 271.086 Q2088.76 262.336 2091.82 257.753 Q2094.9 253.147 2100.71 253.147 Z\" fill=\"#000000\" fill-rule=\"evenodd\" fill-opacity=\"1\" /><path clip-path=\"url(#clip360)\" d=\"M 0 0 M2121.75 284.397 L2138.07 284.397 L2138.07 288.332 L2116.12 288.332 L2116.12 284.397 Q2118.78 281.642 2123.37 277.012 Q2127.97 272.36 2129.15 271.017 Q2131.4 268.494 2132.28 266.758 Q2133.18 264.999 2133.18 263.309 Q2133.18 260.554 2131.24 258.818 Q2129.32 257.082 2126.21 257.082 Q2124.02 257.082 2121.56 257.846 Q2119.13 258.61 2116.35 260.161 L2116.35 255.438 Q2119.18 254.304 2121.63 253.725 Q2124.09 253.147 2126.12 253.147 Q2131.49 253.147 2134.69 255.832 Q2137.88 258.517 2137.88 263.008 Q2137.88 265.137 2137.07 267.059 Q2136.28 268.957 2134.18 271.549 Q2133.6 272.221 2130.5 275.438 Q2127.4 278.633 2121.75 284.397 Z\" fill=\"#000000\" fill-rule=\"evenodd\" fill-opacity=\"1\" /><path clip-path=\"url(#clip360)\" d=\"M 0 0 M2153.14 256.85 Q2149.52 256.85 2147.7 260.415 Q2145.89 263.957 2145.89 271.086 Q2145.89 278.193 2147.7 281.758 Q2149.52 285.299 2153.14 285.299 Q2156.77 285.299 2158.58 281.758 Q2160.4 278.193 2160.4 271.086 Q2160.4 263.957 2158.58 260.415 Q2156.77 256.85 2153.14 256.85 M2153.14 253.147 Q2158.95 253.147 2162 257.753 Q2165.08 262.336 2165.08 271.086 Q2165.08 279.813 2162 284.42 Q2158.95 289.003 2153.14 289.003 Q2147.33 289.003 2144.25 284.42 Q2141.19 279.813 2141.19 271.086 Q2141.19 262.336 2144.25 257.753 Q2147.33 253.147 2153.14 253.147 Z\" fill=\"#000000\" fill-rule=\"evenodd\" fill-opacity=\"1\" /><path clip-path=\"url(#clip360)\" d=\"M 0 0 M2177.12 253.772 L2181.05 253.772 L2169.02 292.73 L2165.08 292.73 L2177.12 253.772 Z\" fill=\"#000000\" fill-rule=\"evenodd\" fill-opacity=\"1\" /><path clip-path=\"url(#clip360)\" d=\"M 0 0 M2190.15 284.397 L2206.47 284.397 L2206.47 288.332 L2184.52 288.332 L2184.52 284.397 Q2187.19 281.642 2191.77 277.012 Q2196.38 272.36 2197.56 271.017 Q2199.8 268.494 2200.68 266.758 Q2201.58 264.999 2201.58 263.309 Q2201.58 260.554 2199.64 258.818 Q2197.72 257.082 2194.62 257.082 Q2192.42 257.082 2189.96 257.846 Q2187.53 258.61 2184.76 260.161 L2184.76 255.438 Q2187.58 254.304 2190.03 253.725 Q2192.49 253.147 2194.52 253.147 Q2199.89 253.147 2203.09 255.832 Q2206.28 258.517 2206.28 263.008 Q2206.28 265.137 2205.47 267.059 Q2204.69 268.957 2202.58 271.549 Q2202 272.221 2198.9 275.438 Q2195.8 278.633 2190.15 284.397 Z\" fill=\"#000000\" fill-rule=\"evenodd\" fill-opacity=\"1\" /><path clip-path=\"url(#clip360)\" d=\"M 0 0 M2212.35 284.397 L2219.99 284.397 L2219.99 258.031 L2211.68 259.698 L2211.68 255.438 L2219.94 253.772 L2224.62 253.772 L2224.62 284.397 L2232.26 284.397 L2232.26 288.332 L2212.35 288.332 L2212.35 284.397 Z\" fill=\"#000000\" fill-rule=\"evenodd\" fill-opacity=\"1\" /></svg>\n"
      ]
     },
     "execution_count": 31,
     "metadata": {},
     "output_type": "execute_result"
    }
   ],
   "source": [
    "otwarcie = plot(dni_zloto[1:end],zloto_przed[1:end, 2], \n",
    "    title=\"ceny złota\", \n",
    "    ylabel=\"cena SPOT\",\n",
    "    label = \"w roku 2019/20\",\n",
    "    legend=:best, \n",
    "    titlefont=font(10),\n",
    "    xtickfont=font(8), \n",
    "    ytickfont=font(8))\n",
    "\n",
    "Wiki = plot!(zloto_covid[1:end, 2], \n",
    "    xlabel = \"data\",\n",
    "    label = \"w roku 2020/21\",\n",
    "    titlefont=font(10),\n",
    "    xtickfont=font(8), \n",
    "    ytickfont=font(8))"
   ]
  },
  {
   "cell_type": "code",
   "execution_count": 32,
   "metadata": {},
   "outputs": [
    {
     "data": {
      "text/html": [
       "<table class=\"data-frame\"><thead><tr><th></th><th>date</th><th>total_cases</th><th>new_cases</th><th>total_deaths</th><th>new_deaths</th><th>reproduction_rate</th></tr><tr><th></th><th>String</th><th>Float64</th><th>Float64</th><th>Float64?</th><th>Float64?</th><th>Float64?</th></tr></thead><tbody><p>457 rows × 22 columns (omitted printing of 16 columns)</p><tr><th>1</th><td>04.03.2020</td><td>1.0</td><td>1.0</td><td><em>missing</em></td><td><em>missing</em></td><td><em>missing</em></td></tr><tr><th>2</th><td>05.03.2020</td><td>1.0</td><td>0.0</td><td><em>missing</em></td><td><em>missing</em></td><td><em>missing</em></td></tr><tr><th>3</th><td>06.03.2020</td><td>5.0</td><td>4.0</td><td><em>missing</em></td><td><em>missing</em></td><td><em>missing</em></td></tr><tr><th>4</th><td>07.03.2020</td><td>5.0</td><td>0.0</td><td><em>missing</em></td><td><em>missing</em></td><td><em>missing</em></td></tr><tr><th>5</th><td>08.03.2020</td><td>11.0</td><td>6.0</td><td><em>missing</em></td><td><em>missing</em></td><td><em>missing</em></td></tr><tr><th>6</th><td>09.03.2020</td><td>16.0</td><td>5.0</td><td><em>missing</em></td><td><em>missing</em></td><td><em>missing</em></td></tr><tr><th>7</th><td>10.03.2020</td><td>22.0</td><td>6.0</td><td><em>missing</em></td><td><em>missing</em></td><td><em>missing</em></td></tr><tr><th>8</th><td>11.03.2020</td><td>31.0</td><td>9.0</td><td><em>missing</em></td><td><em>missing</em></td><td><em>missing</em></td></tr><tr><th>9</th><td>12.03.2020</td><td>49.0</td><td>18.0</td><td>1.0</td><td>1.0</td><td><em>missing</em></td></tr><tr><th>10</th><td>13.03.2020</td><td>68.0</td><td>19.0</td><td>2.0</td><td>1.0</td><td><em>missing</em></td></tr><tr><th>11</th><td>14.03.2020</td><td>103.0</td><td>35.0</td><td>3.0</td><td>1.0</td><td><em>missing</em></td></tr><tr><th>12</th><td>15.03.2020</td><td>119.0</td><td>16.0</td><td>3.0</td><td>0.0</td><td>2.45</td></tr><tr><th>13</th><td>16.03.2020</td><td>177.0</td><td>58.0</td><td>4.0</td><td>1.0</td><td>2.5</td></tr><tr><th>14</th><td>17.03.2020</td><td>238.0</td><td>61.0</td><td>5.0</td><td>1.0</td><td>2.46</td></tr><tr><th>15</th><td>18.03.2020</td><td>251.0</td><td>13.0</td><td>5.0</td><td>0.0</td><td>2.4</td></tr><tr><th>16</th><td>19.03.2020</td><td>355.0</td><td>104.0</td><td>5.0</td><td>0.0</td><td>2.41</td></tr><tr><th>17</th><td>20.03.2020</td><td>425.0</td><td>70.0</td><td>5.0</td><td>0.0</td><td>2.35</td></tr><tr><th>18</th><td>21.03.2020</td><td>536.0</td><td>111.0</td><td>5.0</td><td>0.0</td><td>2.3</td></tr><tr><th>19</th><td>22.03.2020</td><td>634.0</td><td>98.0</td><td>7.0</td><td>2.0</td><td>2.23</td></tr><tr><th>20</th><td>23.03.2020</td><td>749.0</td><td>115.0</td><td>8.0</td><td>1.0</td><td>2.14</td></tr><tr><th>21</th><td>24.03.2020</td><td>901.0</td><td>152.0</td><td>10.0</td><td>2.0</td><td>2.1</td></tr><tr><th>22</th><td>25.03.2020</td><td>1051.0</td><td>150.0</td><td>14.0</td><td>4.0</td><td>2.04</td></tr><tr><th>23</th><td>26.03.2020</td><td>1221.0</td><td>170.0</td><td>16.0</td><td>2.0</td><td>1.94</td></tr><tr><th>24</th><td>27.03.2020</td><td>1389.0</td><td>168.0</td><td>16.0</td><td>0.0</td><td>1.89</td></tr><tr><th>25</th><td>28.03.2020</td><td>1638.0</td><td>249.0</td><td>18.0</td><td>2.0</td><td>1.87</td></tr><tr><th>26</th><td>29.03.2020</td><td>1862.0</td><td>224.0</td><td>22.0</td><td>4.0</td><td>1.81</td></tr><tr><th>27</th><td>30.03.2020</td><td>2055.0</td><td>193.0</td><td>31.0</td><td>9.0</td><td>1.75</td></tr><tr><th>28</th><td>31.03.2020</td><td>2311.0</td><td>256.0</td><td>33.0</td><td>2.0</td><td>1.73</td></tr><tr><th>29</th><td>01.04.2020</td><td>2554.0</td><td>243.0</td><td>43.0</td><td>10.0</td><td>1.72</td></tr><tr><th>30</th><td>02.04.2020</td><td>2946.0</td><td>392.0</td><td>57.0</td><td>14.0</td><td>1.7</td></tr><tr><th>&vellip;</th><td>&vellip;</td><td>&vellip;</td><td>&vellip;</td><td>&vellip;</td><td>&vellip;</td><td>&vellip;</td></tr></tbody></table>"
      ],
      "text/latex": [
       "\\begin{tabular}{r|ccccccc}\n",
       "\t& date & total\\_cases & new\\_cases & total\\_deaths & new\\_deaths & reproduction\\_rate & \\\\\n",
       "\t\\hline\n",
       "\t& String & Float64 & Float64 & Float64? & Float64? & Float64? & \\\\\n",
       "\t\\hline\n",
       "\t1 & 04.03.2020 & 1.0 & 1.0 & \\emph{missing} & \\emph{missing} & \\emph{missing} & $\\dots$ \\\\\n",
       "\t2 & 05.03.2020 & 1.0 & 0.0 & \\emph{missing} & \\emph{missing} & \\emph{missing} & $\\dots$ \\\\\n",
       "\t3 & 06.03.2020 & 5.0 & 4.0 & \\emph{missing} & \\emph{missing} & \\emph{missing} & $\\dots$ \\\\\n",
       "\t4 & 07.03.2020 & 5.0 & 0.0 & \\emph{missing} & \\emph{missing} & \\emph{missing} & $\\dots$ \\\\\n",
       "\t5 & 08.03.2020 & 11.0 & 6.0 & \\emph{missing} & \\emph{missing} & \\emph{missing} & $\\dots$ \\\\\n",
       "\t6 & 09.03.2020 & 16.0 & 5.0 & \\emph{missing} & \\emph{missing} & \\emph{missing} & $\\dots$ \\\\\n",
       "\t7 & 10.03.2020 & 22.0 & 6.0 & \\emph{missing} & \\emph{missing} & \\emph{missing} & $\\dots$ \\\\\n",
       "\t8 & 11.03.2020 & 31.0 & 9.0 & \\emph{missing} & \\emph{missing} & \\emph{missing} & $\\dots$ \\\\\n",
       "\t9 & 12.03.2020 & 49.0 & 18.0 & 1.0 & 1.0 & \\emph{missing} & $\\dots$ \\\\\n",
       "\t10 & 13.03.2020 & 68.0 & 19.0 & 2.0 & 1.0 & \\emph{missing} & $\\dots$ \\\\\n",
       "\t11 & 14.03.2020 & 103.0 & 35.0 & 3.0 & 1.0 & \\emph{missing} & $\\dots$ \\\\\n",
       "\t12 & 15.03.2020 & 119.0 & 16.0 & 3.0 & 0.0 & 2.45 & $\\dots$ \\\\\n",
       "\t13 & 16.03.2020 & 177.0 & 58.0 & 4.0 & 1.0 & 2.5 & $\\dots$ \\\\\n",
       "\t14 & 17.03.2020 & 238.0 & 61.0 & 5.0 & 1.0 & 2.46 & $\\dots$ \\\\\n",
       "\t15 & 18.03.2020 & 251.0 & 13.0 & 5.0 & 0.0 & 2.4 & $\\dots$ \\\\\n",
       "\t16 & 19.03.2020 & 355.0 & 104.0 & 5.0 & 0.0 & 2.41 & $\\dots$ \\\\\n",
       "\t17 & 20.03.2020 & 425.0 & 70.0 & 5.0 & 0.0 & 2.35 & $\\dots$ \\\\\n",
       "\t18 & 21.03.2020 & 536.0 & 111.0 & 5.0 & 0.0 & 2.3 & $\\dots$ \\\\\n",
       "\t19 & 22.03.2020 & 634.0 & 98.0 & 7.0 & 2.0 & 2.23 & $\\dots$ \\\\\n",
       "\t20 & 23.03.2020 & 749.0 & 115.0 & 8.0 & 1.0 & 2.14 & $\\dots$ \\\\\n",
       "\t21 & 24.03.2020 & 901.0 & 152.0 & 10.0 & 2.0 & 2.1 & $\\dots$ \\\\\n",
       "\t22 & 25.03.2020 & 1051.0 & 150.0 & 14.0 & 4.0 & 2.04 & $\\dots$ \\\\\n",
       "\t23 & 26.03.2020 & 1221.0 & 170.0 & 16.0 & 2.0 & 1.94 & $\\dots$ \\\\\n",
       "\t24 & 27.03.2020 & 1389.0 & 168.0 & 16.0 & 0.0 & 1.89 & $\\dots$ \\\\\n",
       "\t25 & 28.03.2020 & 1638.0 & 249.0 & 18.0 & 2.0 & 1.87 & $\\dots$ \\\\\n",
       "\t26 & 29.03.2020 & 1862.0 & 224.0 & 22.0 & 4.0 & 1.81 & $\\dots$ \\\\\n",
       "\t27 & 30.03.2020 & 2055.0 & 193.0 & 31.0 & 9.0 & 1.75 & $\\dots$ \\\\\n",
       "\t28 & 31.03.2020 & 2311.0 & 256.0 & 33.0 & 2.0 & 1.73 & $\\dots$ \\\\\n",
       "\t29 & 01.04.2020 & 2554.0 & 243.0 & 43.0 & 10.0 & 1.72 & $\\dots$ \\\\\n",
       "\t30 & 02.04.2020 & 2946.0 & 392.0 & 57.0 & 14.0 & 1.7 & $\\dots$ \\\\\n",
       "\t$\\dots$ & $\\dots$ & $\\dots$ & $\\dots$ & $\\dots$ & $\\dots$ & $\\dots$ &  \\\\\n",
       "\\end{tabular}\n"
      ],
      "text/plain": [
       "\u001b[1m457×22 DataFrame\u001b[0m\n",
       "\u001b[1m Row \u001b[0m│\u001b[1m date       \u001b[0m\u001b[1m total_cases \u001b[0m\u001b[1m new_cases \u001b[0m\u001b[1m total_deaths \u001b[0m\u001b[1m new_deaths \u001b[0m\u001b[1m reproduct\u001b[0m ⋯\n",
       "\u001b[1m     \u001b[0m│\u001b[90m String     \u001b[0m\u001b[90m Float64     \u001b[0m\u001b[90m Float64   \u001b[0m\u001b[90m Float64?     \u001b[0m\u001b[90m Float64?   \u001b[0m\u001b[90m Float64? \u001b[0m ⋯\n",
       "─────┼──────────────────────────────────────────────────────────────────────────\n",
       "   1 │ 04.03.2020    1.0              1.0 \u001b[90m    missing   \u001b[0m\u001b[90m  missing   \u001b[0m\u001b[90m        mi\u001b[0m ⋯\n",
       "   2 │ 05.03.2020    1.0              0.0 \u001b[90m    missing   \u001b[0m\u001b[90m  missing   \u001b[0m\u001b[90m        mi\u001b[0m\n",
       "   3 │ 06.03.2020    5.0              4.0 \u001b[90m    missing   \u001b[0m\u001b[90m  missing   \u001b[0m\u001b[90m        mi\u001b[0m\n",
       "   4 │ 07.03.2020    5.0              0.0 \u001b[90m    missing   \u001b[0m\u001b[90m  missing   \u001b[0m\u001b[90m        mi\u001b[0m\n",
       "   5 │ 08.03.2020   11.0              6.0 \u001b[90m    missing   \u001b[0m\u001b[90m  missing   \u001b[0m\u001b[90m        mi\u001b[0m ⋯\n",
       "   6 │ 09.03.2020   16.0              5.0 \u001b[90m    missing   \u001b[0m\u001b[90m  missing   \u001b[0m\u001b[90m        mi\u001b[0m\n",
       "   7 │ 10.03.2020   22.0              6.0 \u001b[90m    missing   \u001b[0m\u001b[90m  missing   \u001b[0m\u001b[90m        mi\u001b[0m\n",
       "   8 │ 11.03.2020   31.0              9.0 \u001b[90m    missing   \u001b[0m\u001b[90m  missing   \u001b[0m\u001b[90m        mi\u001b[0m\n",
       "   9 │ 12.03.2020   49.0             18.0           1.0         1.0 \u001b[90m        mi\u001b[0m ⋯\n",
       "  10 │ 13.03.2020   68.0             19.0           2.0         1.0 \u001b[90m        mi\u001b[0m\n",
       "  11 │ 14.03.2020  103.0             35.0           3.0         1.0 \u001b[90m        mi\u001b[0m\n",
       "  ⋮  │     ⋮            ⋮           ⋮           ⋮            ⋮               ⋮ ⋱\n",
       " 448 │ 25.05.2021    2.86719e6     1006.0       73096.0       151.0\n",
       " 449 │ 26.05.2021    2.86845e6     1263.0       73305.0       209.0            ⋯\n",
       " 450 │ 27.05.2021    2.86965e6     1202.0       73440.0       135.0\n",
       " 451 │ 28.05.2021    2.8706e6       943.0       73557.0       117.0\n",
       " 452 │ 29.05.2021    2.87137e6      776.0       73682.0       125.0\n",
       " 453 │ 30.05.2021    2.87195e6      579.0       73738.0        56.0            ⋯\n",
       " 454 │ 31.05.2021    2.87228e6      333.0       73745.0         7.0\n",
       " 455 │ 01.06.2021    2.87287e6      585.0       73856.0       111.0\n",
       " 456 │ 02.06.2021    2.87353e6      659.0       73984.0       128.0 \u001b[90m        mi\u001b[0m\n",
       " 457 │ 03.06.2021    2.87409e6      565.0       74075.0        91.0 \u001b[90m        mi\u001b[0m ⋯\n",
       "\u001b[36m                                                 17 columns and 436 rows omitted\u001b[0m"
      ]
     },
     "execution_count": 32,
     "metadata": {},
     "output_type": "execute_result"
    }
   ],
   "source": [
    "szczepienia = DataFrame(CSV.File(\"vaccination_data.txt\"))"
   ]
  },
  {
   "cell_type": "code",
   "execution_count": 111,
   "metadata": {},
   "outputs": [],
   "source": [
    "mutable struct Person1\n",
    "    zyje::Bool\n",
    "    chetny_do_szczepienia::Bool\n",
    "    zaszczepiony1::Bool\n",
    "    zaszczepiony2::Bool\n",
    "    zasz_data_1::Int16 #data jako numer dnia od poczatku trwania pandemii\n",
    "    zasz_data_2::Int16\n",
    "    zarazony::Bool\n",
    "    data_zarazenia::Int16\n",
    "end"
   ]
  },
  {
   "cell_type": "code",
   "execution_count": 112,
   "metadata": {},
   "outputs": [
    {
     "data": {
      "text/plain": [
       "zaraza (generic function with 2 methods)"
      ]
     },
     "execution_count": 112,
     "metadata": {},
     "output_type": "execute_result"
    }
   ],
   "source": [
    "function zaraza(szczepienia)\n",
    "    populacja = Int64(maximum(szczepienia[2:end, 22]))\n",
    "    Polacy = Vector{Person1}(undef, populacja)\n",
    "    \n",
    "    #obecna sytuacja\n",
    "    chec_szczepienia = 0.57\n",
    "    liczba_przypadkow = Int64(szczepienia[457,2])\n",
    "    liczba_zgonow = Int64(szczepienia[457,4])\n",
    "    liczba_zaszczepionych1 = Int64(szczepienia[457,15])\n",
    "    liczba_zaszczepionych2 = Int64(szczepienia[457,16])\n",
    "    \n",
    "    for i in 1:populacja\n",
    "        \n",
    "        if rand()<(1 - liczba_zgonow/populacja)\n",
    "            Polacy[i].zyje = true\n",
    "            if rand()<liczba_zaszczepionych1/populacja\n",
    "                Polacy[i].chetny_do_szczepienia = true\n",
    "                Polacy[i].zaszczepiony1 = true\n",
    "                if rand()<liczba_zaszczepionych2/liczba_zaszczepionych1\n",
    "                    Polacy[i].zaszczepiony2 = true\n",
    "                end\n",
    "            else\n",
    "                if rand()<chec_szczepienia\n",
    "                    Polacy[i].chec_szczepienia = true\n",
    "                end\n",
    "            end\n",
    "        end\n",
    "        \n",
    "    end\n",
    "      \n",
    "    \n",
    "    \n",
    "    return Polacy\n",
    "end"
   ]
  },
  {
   "cell_type": "code",
   "execution_count": 113,
   "metadata": {},
   "outputs": [
    {
     "ename": "LoadError",
     "evalue": "\u001b[91mUndefRefError: access to undefined reference\u001b[39m",
     "output_type": "error",
     "traceback": [
      "\u001b[91mUndefRefError: access to undefined reference\u001b[39m",
      "",
      "Stacktrace:",
      " [1] getindex(::Array{Person1,1}, ::Int64) at ./array.jl:809",
      " [2] zaraza(::DataFrame) at ./In[112]:15",
      " [3] top-level scope at In[113]:1",
      " [4] include_string(::Function, ::Module, ::String, ::String) at ./loading.jl:1091"
     ]
    }
   ],
   "source": [
    "x = zaraza(szczepienia)\n",
    "println(x[1:20])"
   ]
  },
  {
   "cell_type": "code",
   "execution_count": 34,
   "metadata": {},
   "outputs": [
    {
     "ename": "LoadError",
     "evalue": "\u001b[91mArgumentError: Package Images not found in current path:\u001b[39m\n\u001b[91m- Run `import Pkg; Pkg.add(\"Images\")` to install the Images package.\u001b[39m\n",
     "output_type": "error",
     "traceback": [
      "\u001b[91mArgumentError: Package Images not found in current path:\u001b[39m\n\u001b[91m- Run `import Pkg; Pkg.add(\"Images\")` to install the Images package.\u001b[39m\n",
      "",
      "Stacktrace:",
      " [1] require(::Module, ::Symbol) at ./loading.jl:893",
      " [2] include_string(::Function, ::Module, ::String, ::String) at ./loading.jl:1091"
     ]
    }
   ],
   "source": [
    "using Images\n",
    "load(\"hard_work.jpg\")"
   ]
  },
  {
   "cell_type": "markdown",
   "metadata": {},
   "source": [
    "Bibliografia:\n",
    "\n",
    "* https://stooq.pl/q/d/?s=plnxau&c=0&d1=20200304&d2=20210303\n",
    "*https://ourworldindata.org/covid-vaccinations?country=POL&fbclid=IwAR1O5wvikx9ZHOoq3F5vyrf6IFuvY9xPFCxd57O77bT1wwVk39rf_m66UIg"
   ]
  },
  {
   "cell_type": "code",
   "execution_count": null,
   "metadata": {},
   "outputs": [],
   "source": []
  },
  {
   "cell_type": "code",
   "execution_count": null,
   "metadata": {},
   "outputs": [],
   "source": []
  }
 ],
 "metadata": {
  "kernelspec": {
   "display_name": "Julia 1.5.3",
   "language": "julia",
   "name": "julia-1.5"
  },
  "language_info": {
   "file_extension": ".jl",
   "mimetype": "application/julia",
   "name": "julia",
   "version": "1.5.3"
  }
 },
 "nbformat": 4,
 "nbformat_minor": 5
}
