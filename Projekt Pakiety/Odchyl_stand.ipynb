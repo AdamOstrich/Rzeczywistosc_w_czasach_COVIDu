{
 "cells": [
  {
   "cell_type": "code",
   "execution_count": 29,
   "id": "greenhouse-trade",
   "metadata": {},
   "outputs": [
    {
     "data": {
      "text/plain": [
       "1.4142135623730951"
      ]
     },
     "execution_count": 29,
     "metadata": {},
     "output_type": "execute_result"
    }
   ],
   "source": [
    "using Statistics\n",
    "A = [1 2 3 4 5]\n",
    "std(A; corrected = false)"
   ]
  },
  {
   "cell_type": "code",
   "execution_count": null,
   "id": "difficult-macintosh",
   "metadata": {},
   "outputs": [],
   "source": []
  }
 ],
 "metadata": {
  "kernelspec": {
   "display_name": "Julia 1.6.0-rc1",
   "language": "julia",
   "name": "julia-1.6"
  },
  "language_info": {
   "file_extension": ".jl",
   "mimetype": "application/julia",
   "name": "julia",
   "version": "1.6.0"
  }
 },
 "nbformat": 4,
 "nbformat_minor": 5
}
