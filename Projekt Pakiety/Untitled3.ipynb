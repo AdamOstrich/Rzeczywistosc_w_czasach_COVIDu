{
 "cells": [
  {
   "cell_type": "code",
   "execution_count": 2,
   "metadata": {},
   "outputs": [],
   "source": [
    "using DataFrames\n",
    "using Plots\n",
    "using CSV\n",
    "using Statistics\n",
    "using DelimitedFiles\n",
    "\n",
    "szczepienia = DataFrame(CSV.File(\"vaccination_data.txt\"))\n",
    "\n",
    "mutable struct Person1\n",
    "    zyje::Bool\n",
    "    chetny_do_szczepienia::Bool\n",
    "    zaszczepiony1::Bool\n",
    "    zaszczepiony2::Bool\n",
    "    zasz_data_1::Int16 #data jako numer dnia od poczatku trwania pandemii\n",
    "    zasz_data_2::Int16\n",
    "    zarazony::Bool\n",
    "    data_zarazenia::Int16\n",
    "end\n",
    "\n"
   ]
  },
  {
   "cell_type": "code",
   "execution_count": 3,
   "metadata": {},
   "outputs": [
    {
     "data": {
      "text/plain": [
       "zaraza (generic function with 1 method)"
      ]
     },
     "execution_count": 3,
     "metadata": {},
     "output_type": "execute_result"
    }
   ],
   "source": [
    "function zaraza(szczepienia, dl_prognozy::Int, chec_szczepienia::Float64)\n",
    "    \"\"\"\n",
    "    funkcja przyjmuje dopasowany zestaw danych, dlugosc prognozy w dniach i chec spoleczenstwa do szczepien. \n",
    "    Zwraca tablice o 4 kolumnach z:\n",
    "    dzienna liczba zarazen, dziennej liczbie smierci, liczbie zaszczepionych 1 i 2 dawka.\n",
    "    \"\"\"\n",
    "    populacja = Int64(maximum(szczepienia[2:end, 22]))\n",
    "    Polacy = Vector{Person1}(undef, populacja)\n",
    "    \n",
    "    for i in 1:populacja\n",
    "        Polacy[i] = Person1(false, false, false, false, 0, 0 , false, 0)\n",
    "    end\n",
    "    \n",
    "    # Tworzenie przybliżonej obecnej (2021-06-04) sytuacji:\n",
    "    \n",
    "    #chec_szczepienia = 0.57 #obecna sytuacja posrod niezaszczepionych osob\n",
    "    liczba_przypadkow = Int64(szczepienia[457,2])\n",
    "    liczba_zgonow = Int64(szczepienia[457,4])\n",
    "    liczba_zaszczepionych1 = Int64(szczepienia[457,14])\n",
    "    liczba_zaszczepionych2 = Int64(szczepienia[457,15])\n",
    "    obecni_zarazeni = Int64(sum(szczepienia[450:457,3])) #zalozenie ze obecni zarazeni choruja i roznosza chorobe przez tydzien\n",
    "    obecni_zarazeni2 = obecni_zarazeni\n",
    "    \n",
    "    for i in 1:populacja\n",
    "        if rand()<(1 - liczba_zgonow/populacja)\n",
    "            Polacy[i].zyje = true\n",
    "            if rand()<liczba_zaszczepionych1/populacja\n",
    "                Polacy[i].chetny_do_szczepienia = true\n",
    "                Polacy[i].zaszczepiony1 = true\n",
    "                if rand()<liczba_zaszczepionych2/liczba_zaszczepionych1\n",
    "                    Polacy[i].zaszczepiony2 = true\n",
    "                else\n",
    "                    Polacy[i].zasz_data_1 = rand(422:457) # przyblizony okres pierwszego szczepienia\n",
    "                end\n",
    "            else\n",
    "                if rand()<chec_szczepienia\n",
    "                    Polacy[i].chetny_do_szczepienia = true\n",
    "                end\n",
    "                if obecni_zarazeni2 > 0\n",
    "                    Polacy[i].zarazony = true\n",
    "                    Polacy[i].data_zarazenia = rand(450:457)\n",
    "                    obecni_zarazeni2 -= 1\n",
    "                end\n",
    "            end\n",
    "        end\n",
    "    end\n",
    "\n",
    "    # Tworzenie tablicy z danymi na okreslona dlugosc i symulacja zmianiajacej sie sytuacji:\n",
    "    \n",
    "    Tablica = zeros(Int64, dl_prognozy+1, 6)\n",
    "    obecny_dzien = 458\n",
    "    ozdrowiency = szczepienia[450,3]\n",
    "    \n",
    "    #surowosc_obostrzen = szczepienia[457, 21]\n",
    "    #reprodukcja_wirusa = szczepienia[457, 6]\n",
    "    \n",
    "    \n",
    "                   #dzienne zarazenia         dzienna smierc             liczba_zaszczepionych1  liczba_zaszczepionych2   obecnie zarazeni\n",
    "    Tablica[1,:] = [Int64(szczepienia[457,3]), Int64(szczepienia[457,5]), liczba_zaszczepionych1, liczba_zaszczepionych2, obecni_zarazeni, ozdrowiency]\n",
    "    \n",
    "    #println(obecni_zarazeni) \n",
    "    \n",
    "    for i in 2:dl_prognozy+1\n",
    "        \n",
    "        obecni_zarazeni = Tablica[i-1,5]\n",
    "        szansa_kontaktu_z_zarazonym = 0.15 * obecni_zarazeni/populacja #zalozenie ze spotykamy 10osob dziennie srednio\n",
    "        skutecznosc1 = 0.5\n",
    "        skutecznosc2 = 0.9\n",
    "        dzisiaj_smierc = 0\n",
    "        dzisiaj_zarazeni = 0\n",
    "        dzisiaj_zaszczepieni = 0\n",
    "        dzisiaj_zaszczepieni2 = 0\n",
    "        ozdrowiency = 0\n",
    "        \n",
    "        \n",
    "        for i in 1:populacja\n",
    "            if Polacy[i].zyje\n",
    "                \n",
    "                if Polacy[i].zarazony                                        #co z zarazonymi/smierc\n",
    "                    \n",
    "                    if Polacy[i].data_zarazenia+7 <= obecny_dzien\n",
    "                        praw = rand()\n",
    "                        if praw<0.9 # po 7dniach szansa wyzdrowienia 90% kazdego dnia\n",
    "                            Polacy[i].zarazony = false\n",
    "                            Polacy[i].data_zarazenia = 0\n",
    "                            obecni_zarazeni -= 1\n",
    "                            ozdrowiency += 1\n",
    "                        elseif praw<0.927 # zakladamy, ze moga umrzec tylko ci co choruja ponad tydzien\n",
    "                            \"\"\"\n",
    "                            3% umiera, wiec po tym tygodniu zostaje to 30%, zatem szukamy x takiego, ze:\n",
    "                            0.03 = x * szereg((0.1)^i)\n",
    "                            czyli wychodzi, ze prawdopodobienstwo smierci po 7dniu choroby to 0.27 kazdego dnia\n",
    "                            \"\"\"\n",
    "                            Polacy[i].zyje = false\n",
    "                            Polacy[i].data_zarazenia = 0\n",
    "                            dzisiaj_smierc += 1\n",
    "                            obecni_zarazeni -= 1\n",
    "                        end\n",
    "                    end\n",
    "                        \n",
    "                    \n",
    "                \n",
    "                else                                                         #szansa zachorowania + zaszczepienia(not yet)\n",
    "                   \n",
    "                    \n",
    "                    prawd = rand() # by przyspieszyc program\n",
    "                    if Polacy[i].zaszczepiony1\n",
    "                        if Polacy[i].zaszczepiony2                                       #przy 2dawkach\n",
    "                            if prawd < szansa_kontaktu_z_zarazonym && rand()>skutecznosc2\n",
    "                                Polacy[i].zarazony = true\n",
    "                                Polacy[i].data_zarazenia = obecny_dzien\n",
    "                                obecni_zarazeni += 1\n",
    "                                dzisiaj_zarazeni += 1\n",
    "                            end\n",
    "                        else                                                             #przy 1dawce\n",
    "                            if prawd < szansa_kontaktu_z_zarazonym && rand()>skutecznosc1\n",
    "                                Polacy[i].zarazony = true\n",
    "                                Polacy[i].data_zarazenia = obecny_dzien\n",
    "                                obecni_zarazeni += 1\n",
    "                                dzisiaj_zarazeni += 1\n",
    "                            elseif Polacy[i].zasz_data_1+35 <= obecny_dzien\n",
    "                                Polacy[i].zaszczepiony2 = true\n",
    "                                dzisiaj_zaszczepieni += 1\n",
    "                                dzisiaj_zaszczepieni2 += 1\n",
    "                            end\n",
    "                        end\n",
    "                    else                                                                 #niezaszczepiony\n",
    "                        if prawd < szansa_kontaktu_z_zarazonym\n",
    "                            Polacy[i].zarazony = true\n",
    "                            Polacy[i].data_zarazenia = obecny_dzien\n",
    "                            obecni_zarazeni += 1\n",
    "                            dzisiaj_zarazeni += 1\n",
    "                        elseif Polacy[i].chetny_do_szczepienia == true && Polacy[i].zasz_data_1 != obecny_dzien\n",
    "                            Polacy[i].zasz_data_1 = obecny_dzien + rand(15:50)                        \n",
    "                        elseif Polacy[i].zasz_data_1 == obecny_dzien\n",
    "                            Polacy[i].zaszczepiony1 = true\n",
    "                            dzisiaj_zaszczepieni += 1\n",
    "                        end\n",
    "                    end\n",
    "                end\n",
    "            end\n",
    "        end\n",
    "        println(\"test\", i) #dla ogladania szybkosci postepu kodu\n",
    "        #aktualizacja tablicy:\n",
    "        Tablica[i,:] = [dzisiaj_zarazeni,dzisiaj_smierc,Tablica[i-1,3]+dzisiaj_zaszczepieni,Tablica[i-1,4]+dzisiaj_zaszczepieni2,obecni_zarazeni, ozdrowiency]\n",
    "        obecny_dzien += 1 \n",
    "    end\n",
    "    \n",
    "    \n",
    "    return Tablica\n",
    "end"
   ]
  },
  {
   "cell_type": "markdown",
   "metadata": {},
   "source": [
    "Ponizej pierwsza symulacja, w ktorej chec zaszczepienie deklaruje az 90% jeszcze nie zaszczepionych."
   ]
  },
  {
   "cell_type": "code",
   "execution_count": 4,
   "metadata": {},
   "outputs": [
    {
     "name": "stdout",
     "output_type": "stream",
     "text": [
      "test2\n",
      "test3\n",
      "test4\n",
      "test5\n",
      "test6\n",
      "test7\n",
      "test8\n"
     ]
    },
    {
     "ename": "LoadError",
     "evalue": "\u001b[91mInterruptException:\u001b[39m",
     "output_type": "error",
     "traceback": [
      "\u001b[91mInterruptException:\u001b[39m",
      "",
      "Stacktrace:",
      " [1] zaraza(::DataFrame, ::Int64, ::Float64) at ./In[3]:76",
      " [2] top-level scope at In[4]:1",
      " [3] include_string(::Function, ::Module, ::String, ::String) at ./loading.jl:1091"
     ]
    }
   ],
   "source": [
    "x1 = zaraza(szczepienia, 365, 0.90)"
   ]
  },
  {
   "cell_type": "code",
   "execution_count": 1,
   "metadata": {},
   "outputs": [
    {
     "ename": "LoadError",
     "evalue": "\u001b[91mUndefVarError: x not defined\u001b[39m",
     "output_type": "error",
     "traceback": [
      "\u001b[91mUndefVarError: x not defined\u001b[39m",
      "",
      "Stacktrace:",
      " [1] top-level scope at In[1]:1",
      " [2] include_string(::Function, ::Module, ::String, ::String) at ./loading.jl:1091"
     ]
    }
   ],
   "source": [
    "y1 = DataFrame(\n",
    "    dzienne_zarazenia = x1[1:end,1],\n",
    "    dzienna_smierc = x1[1:end,2],\n",
    "    lacznie_1_dawka = x1[1:end,3],\n",
    "    lacznie_2_dawka = x1[1:end,4],\n",
    "    teraz_zarazeni = x1[1:end,5],\n",
    "    ozdrowiency = x1[1:end,6]\n",
    "    )"
   ]
  },
  {
   "cell_type": "code",
   "execution_count": 21,
   "metadata": {},
   "outputs": [
    {
     "data": {
      "text/plain": [
       "\"symulacja_57proc.csv\""
      ]
     },
     "execution_count": 21,
     "metadata": {},
     "output_type": "execute_result"
    }
   ],
   "source": [
    "CSV.write(\"symulacja_90proc.csv\", y1)"
   ]
  },
  {
   "cell_type": "markdown",
   "metadata": {},
   "source": [
    "Ponizej druga symulacja, w ktorej chec zaszczepienie deklaruje 10% jeszcze nie zaszczepionych."
   ]
  },
  {
   "cell_type": "code",
   "execution_count": 10,
   "metadata": {},
   "outputs": [
    {
     "ename": "LoadError",
     "evalue": "\u001b[91mKeyError: key \"y\" not found\u001b[39m",
     "output_type": "error",
     "traceback": [
      "\u001b[91mKeyError: key \"y\" not found\u001b[39m",
      "",
      "Stacktrace:",
      " [1] getindex(::JLD2.Group{JLD2.JLDFile{JLD2.MmapIO}}, ::String) at /home/adam_ostrich/.julia/packages/JLD2/qncOK/src/groups.jl:100",
      " [2] read(::JLD2.JLDFile{JLD2.MmapIO}, ::String) at /home/adam_ostrich/.julia/packages/JLD2/qncOK/src/JLD2.jl:346",
      " [3] #5 at /home/adam_ostrich/.julia/packages/JLD2/qncOK/src/loadsave.jl:145 [inlined]",
      " [4] jldopen(::var\"#5#6\", ::String; kws::Base.Iterators.Pairs{Union{},Union{},Tuple{},NamedTuple{(),Tuple{}}}) at /home/adam_ostrich/.julia/packages/JLD2/qncOK/src/loadsave.jl:4",
      " [5] jldopen(::Function, ::String) at /home/adam_ostrich/.julia/packages/JLD2/qncOK/src/loadsave.jl:2",
      " [6] top-level scope at /home/adam_ostrich/.julia/packages/JLD2/qncOK/src/loadsave.jl:144",
      " [7] include_string(::Function, ::Module, ::String, ::String) at ./loading.jl:1091"
     ]
    }
   ],
   "source": [
    "x2 = zaraza(szczepienia, 365, 0.10)"
   ]
  },
  {
   "cell_type": "code",
   "execution_count": 9,
   "metadata": {},
   "outputs": [
    {
     "data": {
      "text/plain": [
       "101×6 Array{Int64,2}:\n",
       " 565  91  14224874   7777048  5642  1202\n",
       " 592  30  14581755   8133929  4942  1262\n",
       " 553  26  14760703   8312877  4733   736\n",
       " 517  23  14938894   8491068  4562   665\n",
       " 482  24  15117699   8669873  4317   703\n",
       " 470  27  15295725   8847899  4105   655\n",
       " 431  23  15474582   9026756  3827   686\n",
       " 418  21  15653232   9205406  3528   696\n",
       " 350  20  15832355   9384529  3268   590\n",
       " 343  17  16010899   9563073  3055   539\n",
       " 356  13  16189628   9741802  2900   498\n",
       " 317  16  16368495   9920669  2730   471\n",
       " 288  16  16547451  10099625  2538   464\n",
       "   ⋮                                   ⋮\n",
       "   0   0  20658135  14210309     2     1\n",
       "   0   0  20658135  14210309     2     0\n",
       "   0   0  20658135  14210309     1     1\n",
       "   1   0  20658135  14210309     2     0\n",
       "   0   0  20658135  14210309     2     0\n",
       "   0   0  20658135  14210309     1     1\n",
       "   0   0  20658135  14210309     1     0\n",
       "   0   0  20658135  14210309     1     0\n",
       "   0   0  20658135  14210309     1     0\n",
       "   0   0  20658135  14210309     1     0\n",
       "   0   0  20658135  14210309     0     1\n",
       "   0   0  20658135  14210309     0     0"
      ]
     },
     "execution_count": 9,
     "metadata": {},
     "output_type": "execute_result"
    }
   ],
   "source": [
    "y2 = DataFrame(\n",
    "    dzienne_zarazenia = x2[1:end,1],\n",
    "    dzienna_smierc = x2[1:end,2],\n",
    "    lacznie_1_dawka = x2[1:end,3],\n",
    "    lacznie_2_dawka = x2[1:end,4],\n",
    "    teraz_zarazeni = x2[1:end,5],\n",
    "    ozdrowiency = x2[1:end,6]\n",
    "    )"
   ]
  },
  {
   "cell_type": "code",
   "execution_count": null,
   "metadata": {},
   "outputs": [],
   "source": [
    "CSV.write(\"symulacja_10proc.csv\", y2)"
   ]
  },
  {
   "cell_type": "markdown",
   "metadata": {},
   "source": [
    "Ponizej trzecia symulacja, w ktorej chec zaszczepienie deklaruje az 40% jeszcze nie zaszczepionych."
   ]
  },
  {
   "cell_type": "code",
   "execution_count": null,
   "metadata": {},
   "outputs": [],
   "source": [
    "x3 = zaraza(szczepienia, 365, 0.40)"
   ]
  },
  {
   "cell_type": "code",
   "execution_count": null,
   "metadata": {},
   "outputs": [],
   "source": [
    "y3 = DataFrame(\n",
    "    dzienne_zarazenia = x3[1:end,1],\n",
    "    dzienna_smierc = x3[1:end,2],\n",
    "    lacznie_1_dawka = x3[1:end,3],\n",
    "    lacznie_2_dawka = x3[1:end,4],\n",
    "    teraz_zarazeni = x3[1:end,5],\n",
    "    ozdrowiency = x3[1:end,6]\n",
    "    )"
   ]
  },
  {
   "cell_type": "code",
   "execution_count": null,
   "metadata": {},
   "outputs": [],
   "source": [
    "CSV.write(\"symulacja_40proc.csv\", y3)"
   ]
  }
 ],
 "metadata": {
  "kernelspec": {
   "display_name": "Julia 1.5.3",
   "language": "julia",
   "name": "julia-1.5"
  },
  "language_info": {
   "file_extension": ".jl",
   "mimetype": "application/julia",
   "name": "julia",
   "version": "1.5.3"
  }
 },
 "nbformat": 4,
 "nbformat_minor": 4
}
