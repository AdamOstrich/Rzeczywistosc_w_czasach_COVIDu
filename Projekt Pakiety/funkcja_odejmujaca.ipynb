{
 "cells": [
  {
   "cell_type": "code",
   "execution_count": 22,
   "metadata": {},
   "outputs": [
    {
     "data": {
      "text/plain": [
       "substract_data (generic function with 1 method)"
      ]
     },
     "execution_count": 22,
     "metadata": {},
     "output_type": "execute_result"
    }
   ],
   "source": [
    "function substract_data(list)\n",
    "    list1 = [list[1],0,0,0,0,0,0,0,0,0,0,0,0,0,0,0,0,0,0,0,0,0,0,0]\n",
    "    for i in 1:1:length(list)\n",
    "        if i >= 2\n",
    "            list1[i] = list[i]-list[i-1]\n",
    "        end\n",
    "    end\n",
    "    list1 |> display\n",
    "end"
   ]
  },
  {
   "cell_type": "code",
   "execution_count": 24,
   "metadata": {},
   "outputs": [
    {
     "data": {
      "text/plain": [
       "24-element Array{Int64,1}:\n",
       " 419\n",
       " 559\n",
       " 503\n",
       " 444\n",
       " 628\n",
       " 584\n",
       " 617\n",
       " 566\n",
       " 537\n",
       " 534\n",
       " 477\n",
       " 430\n",
       " 481\n",
       " 459\n",
       " 381\n",
       " 379\n",
       " 373\n",
       " 472\n",
       " 407\n",
       " 443\n",
       " 409\n",
       " 379\n",
       " 416\n",
       " 413"
      ]
     },
     "metadata": {},
     "output_type": "display_data"
    }
   ],
   "source": [
    "l = [419\n",
    "978\n",
    "1481\n",
    "1925\n",
    "2553\n",
    "3137\n",
    "3754\n",
    "4320\n",
    "4857\n",
    "5391\n",
    "5868\n",
    "6298\n",
    "6779\n",
    "7238\n",
    "7619\n",
    "7998\n",
    "8371\n",
    "8843\n",
    "9250\n",
    "9693\n",
    "10102\n",
    "10481\n",
    "10897\n",
    "11310]\n",
    "\n",
    "substract_data(l)"
   ]
  },
  {
   "cell_type": "code",
   "execution_count": null,
   "metadata": {},
   "outputs": [],
   "source": []
  },
  {
   "cell_type": "code",
   "execution_count": null,
   "metadata": {},
   "outputs": [],
   "source": []
  },
  {
   "cell_type": "code",
   "execution_count": null,
   "metadata": {},
   "outputs": [],
   "source": []
  },
  {
   "cell_type": "code",
   "execution_count": null,
   "metadata": {},
   "outputs": [],
   "source": []
  },
  {
   "cell_type": "code",
   "execution_count": null,
   "metadata": {},
   "outputs": [],
   "source": []
  },
  {
   "cell_type": "code",
   "execution_count": null,
   "metadata": {},
   "outputs": [],
   "source": []
  },
  {
   "cell_type": "code",
   "execution_count": null,
   "metadata": {},
   "outputs": [],
   "source": []
  }
 ],
 "metadata": {
  "kernelspec": {
   "display_name": "Julia 1.5.3",
   "language": "julia",
   "name": "julia-1.5"
  },
  "language_info": {
   "file_extension": ".jl",
   "mimetype": "application/julia",
   "name": "julia",
   "version": "1.5.3"
  }
 },
 "nbformat": 4,
 "nbformat_minor": 4
}
