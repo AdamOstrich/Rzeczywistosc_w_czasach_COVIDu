{
 "cells": [
  {
   "cell_type": "code",
   "execution_count": null,
   "id": "fancy-discussion",
   "metadata": {},
   "outputs": [],
   "source": [
    "function srednia_kroczaca(dane::Array, kolumna::Int64, zakres_sredniej::Int64)\n",
    "    dane2 = Vector{Any}(undef, size(dane)[1])\n",
    "    dane2 = dane[1:size(dane)[1], kolumna]\n",
    "    for i in 2+zakres_sredniej:size(dane)[1]-zakres_sredniej\n",
    "        suma = sum(dane[i-zakres_sredniej:i+zakres_sredniej, kolumna])\n",
    "        dane2[i] = suma/(2*zakres_sredniej + 1)\n",
    "    end\n",
    "    return dane2\n",
    "end"
   ]
  }
 ],
 "metadata": {
  "kernelspec": {
   "display_name": "Julia 1.6.0-rc1",
   "language": "julia",
   "name": "julia-1.6"
  },
  "language_info": {
   "file_extension": ".jl",
   "mimetype": "application/julia",
   "name": "julia",
   "version": "1.6.0"
  }
 },
 "nbformat": 4,
 "nbformat_minor": 5
}
