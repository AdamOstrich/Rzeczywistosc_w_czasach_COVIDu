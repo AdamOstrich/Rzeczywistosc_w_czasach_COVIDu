{
 "cells": [
  {
   "cell_type": "markdown",
   "id": "committed-fellowship",
   "metadata": {},
   "source": [
    "Funkcja nasza krocząca średnia, typy nie działają i nie wiemy dlaczego"
   ]
  },
  {
   "cell_type": "code",
   "execution_count": null,
   "id": "criminal-watch",
   "metadata": {},
   "outputs": [],
   "source": [
    "function kroczak(filename, column::Int64, number::Int64) \n",
    "    #println(filename, typeof(filename))\n",
    "    #println(column, typeof(column))\n",
    "    #println(number, typeof(number))\n",
    "    \n",
    "        for i in 2:size(filename)[1]\n",
    "            if number == 1\n",
    "                filename[i][column]=(filename[i-1][column]+filename[i][column]+filename[i+1][column])/(2*number+1)\n",
    "            elseif number == 2\n",
    "                filename[i][column]=(filename[i-2][column]+filename[i-1][column]+filename[i][column]+filename[i+1][column]+filename[i+2][column])/(2*number+1)\n",
    "        end\n",
    "    end\n",
    "    \n",
    "end\n",
    "\n",
    "kroczak(kghm_covid, 2, 1)"
   ]
  },
  {
   "cell_type": "markdown",
   "id": "therapeutic-spirituality",
   "metadata": {},
   "source": [
    "Funkcja z ne"
   ]
  },
  {
   "cell_type": "code",
   "execution_count": null,
   "id": "adjusted-commonwealth",
   "metadata": {},
   "outputs": [],
   "source": [
    "using Statistics\n",
    "function movingaverage(X::Vector,numofele::Int)\n",
    "    BackDelta = div(numofele,2) \n",
    "    ForwardDelta = isodd(numofele) ? div(numofele,2) : div(numofele,2) - 1\n",
    "    len = length(X)\n",
    "    Y = similar(X)\n",
    "    for n = 1:len\n",
    "        lo = max(1,n - BackDelta)\n",
    "        hi = min(len,n + ForwardDelta)\n",
    "        Y[n] = mean(X[lo:hi])\n",
    "    end\n",
    "    return Y\n",
    "end"
   ]
  }
 ],
 "metadata": {
  "kernelspec": {
   "display_name": "Julia 1.6.0-rc1",
   "language": "julia",
   "name": "julia-1.6"
  },
  "language_info": {
   "file_extension": ".jl",
   "mimetype": "application/julia",
   "name": "julia",
   "version": "1.6.0"
  }
 },
 "nbformat": 4,
 "nbformat_minor": 5
}
