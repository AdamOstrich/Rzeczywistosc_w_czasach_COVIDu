{
 "cells": [
  {
   "cell_type": "markdown",
   "id": "foreign-stack",
   "metadata": {},
   "source": [
    "Funkcja nasza krocząca średnia, typy nie działają i nie wiemy dlaczego"
   ]
  },
  {
   "cell_type": "code",
   "execution_count": null,
   "id": "alert-branch",
   "metadata": {},
   "outputs": [],
   "source": [
    "function kroczak(filename, column::Int64, number::Int64) \n",
    "    #println(filename, typeof(filename))\n",
    "    #println(column, typeof(column))\n",
    "    #println(number, typeof(number))\n",
    "    \n",
    "        for i in 2:size(filename)[1]\n",
    "            if number == 1\n",
    "                filename[i][column]=(filename[i-1][column]+filename[i][column]+filename[i+1][column])/(2*number+1)\n",
    "            elseif number == 2\n",
    "                filename[i][column]=(filename[i-2][column]+filename[i-1][column]+filename[i][column]+filename[i+1][column]+filename[i+2][column])/(2*number+1)\n",
    "        end\n",
    "    end\n",
    "    \n",
    "end\n",
    "\n",
    "kroczak(kghm_covid, 2, 1)"
   ]
  },
  {
   "cell_type": "markdown",
   "id": "adult-superior",
   "metadata": {},
   "source": [
    "Funkcja z neta, niby działa"
   ]
  },
  {
   "cell_type": "code",
   "execution_count": null,
   "id": "religious-wonder",
   "metadata": {},
   "outputs": [],
   "source": [
    "using Statistics\n",
    "function movingaverage(X::Vector,numofele::Int)\n",
    "    BackDelta = div(numofele,2) \n",
    "    ForwardDelta = isodd(numofele) ? div(numofele,2) : div(numofele,2) - 1\n",
    "    len = length(X)\n",
    "    Y = similar(X)\n",
    "    for n = 1:len\n",
    "        lo = max(1,n - BackDelta)\n",
    "        hi = min(len,n + ForwardDelta)\n",
    "        Y[n] = mean(X[lo:hi])\n",
    "    end\n",
    "    return Y\n",
    "end"
   ]
  },
  {
   "cell_type": "markdown",
   "id": "heated-apparatus",
   "metadata": {},
   "source": [
    "Niby odchylenie standardowe"
   ]
  },
  {
   "cell_type": "code",
   "execution_count": 3,
   "id": "extra-information",
   "metadata": {},
   "outputs": [
    {
     "data": {
      "text/plain": [
       "1.5811388300841898"
      ]
     },
     "execution_count": 3,
     "metadata": {},
     "output_type": "execute_result"
    }
   ],
   "source": [
    "using Statistics\n",
    "A = [1 2 3 4 5]\n",
    "\n",
    "std(A)\n"
   ]
  }
 ],
 "metadata": {
  "kernelspec": {
   "display_name": "Julia 1.6.0-rc1",
   "language": "julia",
   "name": "julia-1.6"
  },
  "language_info": {
   "file_extension": ".jl",
   "mimetype": "application/julia",
   "name": "julia",
   "version": "1.6.0"
  }
 },
 "nbformat": 4,
 "nbformat_minor": 5
}
