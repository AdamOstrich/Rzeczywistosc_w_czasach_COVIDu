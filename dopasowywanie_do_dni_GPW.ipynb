{
 "cells": [
  {
   "cell_type": "code",
   "execution_count": 8,
   "metadata": {},
   "outputs": [
    {
     "data": {
      "text/plain": [
       "252×3 Array{Any,2}:\n",
       " \"Data\"               \"Narastaj\\xb9co\"       \"\\xa3\\xb9cznydziennyprzyrost\"\n",
       " \"2020-03-04\"        1                      1\n",
       " \"2020-03-05\"        1                      0\n",
       " \"2020-03-06\"        5                      4\n",
       " \"2020-03-09\"       17                      6\n",
       " \"2020-03-10\"       22                      5\n",
       " \"2020-03-11\"       31                      9\n",
       " \"2020-03-12\"       51                     20\n",
       " \"2020-03-13\"       68                     17\n",
       " \"2020-03-16\"      177                     52\n",
       " \"2020-03-17\"      238                     61\n",
       " \"2020-03-18\"      287                     49\n",
       " \"2020-03-19\"      355                     68\n",
       " ⋮                                      \n",
       " \"2021-02-16\"  1605372                   8694\n",
       " \"2021-02-17\"  1614446                   9073\n",
       " \"2021-02-18\"  1623218                   8777\n",
       " \"2021-02-19\"  1631727                   8510\n",
       " \"2021-02-22\"  1648962                   6310\n",
       " \"2021-02-23\"  1661109                  12146\n",
       " \"2021-02-24\"  1673252                  12142\n",
       " \"2021-02-25\"  1684788                  11539\n",
       " \"2021-02-26\"  1696885                  12100\n",
       " \"2021-03-01\"  1719708                   7937\n",
       " \"2021-03-02\"  1735406                  15698\n",
       " \"2021-03-03\"  1735406                  15698"
      ]
     },
     "execution_count": 8,
     "metadata": {},
     "output_type": "execute_result"
    }
   ],
   "source": [
    "using DelimitedFiles\n",
    "using Plots\n",
    "\n",
    "zarazenia=readdlm(\"dane_zarazen_COVID.txt\") #wszystkie dni od 04.03.2020 do 03.03.2021\n",
    "\n",
    "function zarazenia_GPW(wszystkie_dni::Array{})\n",
    "    CCC=readdlm(\"CCC_COVID.txt\")\n",
    "    dni_GPW = Array{Any,2}(undef, 252,3)\n",
    "    dni_GPW[1,1:3] .= wszystkie_dni[1, 1:3]\n",
    "    for i in 2:252\n",
    "        j = 0\n",
    "        while CCC[i,1] != wszystkie_dni[i+j,1]\n",
    "            j += 1\n",
    "        end\n",
    "        dni_GPW[i,1:3] .= wszystkie_dni[i+j, 1:3]\n",
    "    end\n",
    "    return dni_GPW\n",
    "end\n",
    "zarazenia_GPW(zarazenia)"
   ]
  },
  {
   "cell_type": "code",
   "execution_count": null,
   "metadata": {},
   "outputs": [],
   "source": []
  }
 ],
 "metadata": {
  "kernelspec": {
   "display_name": "Julia 1.5.3",
   "language": "julia",
   "name": "julia-1.5"
  },
  "language_info": {
   "file_extension": ".jl",
   "mimetype": "application/julia",
   "name": "julia",
   "version": "1.5.3"
  }
 },
 "nbformat": 4,
 "nbformat_minor": 4
}
